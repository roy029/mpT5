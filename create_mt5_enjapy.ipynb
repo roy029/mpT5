{
  "nbformat": 4,
  "nbformat_minor": 0,
  "metadata": {
    "colab": {
      "name": "create_mt5-enjapy.ipynb",
      "provenance": [],
      "collapsed_sections": [],
      "include_colab_link": true
    },
    "kernelspec": {
      "name": "python3",
      "display_name": "Python 3"
    },
    "language_info": {
      "name": "python"
    },
    "widgets": {
      "application/vnd.jupyter.widget-state+json": {
        "9ed02a70d38f4b96b7b6f97f5dfb9c3a": {
          "model_module": "@jupyter-widgets/controls",
          "model_name": "HBoxModel",
          "model_module_version": "1.5.0",
          "state": {
            "_dom_classes": [],
            "_model_module": "@jupyter-widgets/controls",
            "_model_module_version": "1.5.0",
            "_model_name": "HBoxModel",
            "_view_count": null,
            "_view_module": "@jupyter-widgets/controls",
            "_view_module_version": "1.5.0",
            "_view_name": "HBoxView",
            "box_style": "",
            "children": [
              "IPY_MODEL_f01ab037fa6f4706aa56d74ec3122aac",
              "IPY_MODEL_dce44dbdc25347feabc77079276ffeb3",
              "IPY_MODEL_ea3d5ead42ab4a91b9355c2da12c7fe4"
            ],
            "layout": "IPY_MODEL_19ef10349d15492e81be7f7c23ddfc4d"
          }
        },
        "f01ab037fa6f4706aa56d74ec3122aac": {
          "model_module": "@jupyter-widgets/controls",
          "model_name": "HTMLModel",
          "model_module_version": "1.5.0",
          "state": {
            "_dom_classes": [],
            "_model_module": "@jupyter-widgets/controls",
            "_model_module_version": "1.5.0",
            "_model_name": "HTMLModel",
            "_view_count": null,
            "_view_module": "@jupyter-widgets/controls",
            "_view_module_version": "1.5.0",
            "_view_name": "HTMLView",
            "description": "",
            "description_tooltip": null,
            "layout": "IPY_MODEL_cdbc6121161c46818d40310f8bfe0635",
            "placeholder": "​",
            "style": "IPY_MODEL_e0c2ed1064854a91bd0505dbba75b609",
            "value": "100%"
          }
        },
        "dce44dbdc25347feabc77079276ffeb3": {
          "model_module": "@jupyter-widgets/controls",
          "model_name": "FloatProgressModel",
          "model_module_version": "1.5.0",
          "state": {
            "_dom_classes": [],
            "_model_module": "@jupyter-widgets/controls",
            "_model_module_version": "1.5.0",
            "_model_name": "FloatProgressModel",
            "_view_count": null,
            "_view_module": "@jupyter-widgets/controls",
            "_view_module_version": "1.5.0",
            "_view_name": "ProgressView",
            "bar_style": "success",
            "description": "",
            "description_tooltip": null,
            "layout": "IPY_MODEL_38750a4329e7413a8ead5fc2db416ffb",
            "max": 1000000,
            "min": 0,
            "orientation": "horizontal",
            "style": "IPY_MODEL_9b83ce960b26444aa0550a72672c4624",
            "value": 1000000
          }
        },
        "ea3d5ead42ab4a91b9355c2da12c7fe4": {
          "model_module": "@jupyter-widgets/controls",
          "model_name": "HTMLModel",
          "model_module_version": "1.5.0",
          "state": {
            "_dom_classes": [],
            "_model_module": "@jupyter-widgets/controls",
            "_model_module_version": "1.5.0",
            "_model_name": "HTMLModel",
            "_view_count": null,
            "_view_module": "@jupyter-widgets/controls",
            "_view_module_version": "1.5.0",
            "_view_name": "HTMLView",
            "description": "",
            "description_tooltip": null,
            "layout": "IPY_MODEL_70fc3cd43fd94be990ae088df63f26c2",
            "placeholder": "​",
            "style": "IPY_MODEL_608aef16b9224361a0a6e7c96b9ccf0d",
            "value": " 1000000/1000000 [02:58&lt;00:00, 5631.10it/s]"
          }
        },
        "19ef10349d15492e81be7f7c23ddfc4d": {
          "model_module": "@jupyter-widgets/base",
          "model_name": "LayoutModel",
          "model_module_version": "1.2.0",
          "state": {
            "_model_module": "@jupyter-widgets/base",
            "_model_module_version": "1.2.0",
            "_model_name": "LayoutModel",
            "_view_count": null,
            "_view_module": "@jupyter-widgets/base",
            "_view_module_version": "1.2.0",
            "_view_name": "LayoutView",
            "align_content": null,
            "align_items": null,
            "align_self": null,
            "border": null,
            "bottom": null,
            "display": null,
            "flex": null,
            "flex_flow": null,
            "grid_area": null,
            "grid_auto_columns": null,
            "grid_auto_flow": null,
            "grid_auto_rows": null,
            "grid_column": null,
            "grid_gap": null,
            "grid_row": null,
            "grid_template_areas": null,
            "grid_template_columns": null,
            "grid_template_rows": null,
            "height": null,
            "justify_content": null,
            "justify_items": null,
            "left": null,
            "margin": null,
            "max_height": null,
            "max_width": null,
            "min_height": null,
            "min_width": null,
            "object_fit": null,
            "object_position": null,
            "order": null,
            "overflow": null,
            "overflow_x": null,
            "overflow_y": null,
            "padding": null,
            "right": null,
            "top": null,
            "visibility": null,
            "width": null
          }
        },
        "cdbc6121161c46818d40310f8bfe0635": {
          "model_module": "@jupyter-widgets/base",
          "model_name": "LayoutModel",
          "model_module_version": "1.2.0",
          "state": {
            "_model_module": "@jupyter-widgets/base",
            "_model_module_version": "1.2.0",
            "_model_name": "LayoutModel",
            "_view_count": null,
            "_view_module": "@jupyter-widgets/base",
            "_view_module_version": "1.2.0",
            "_view_name": "LayoutView",
            "align_content": null,
            "align_items": null,
            "align_self": null,
            "border": null,
            "bottom": null,
            "display": null,
            "flex": null,
            "flex_flow": null,
            "grid_area": null,
            "grid_auto_columns": null,
            "grid_auto_flow": null,
            "grid_auto_rows": null,
            "grid_column": null,
            "grid_gap": null,
            "grid_row": null,
            "grid_template_areas": null,
            "grid_template_columns": null,
            "grid_template_rows": null,
            "height": null,
            "justify_content": null,
            "justify_items": null,
            "left": null,
            "margin": null,
            "max_height": null,
            "max_width": null,
            "min_height": null,
            "min_width": null,
            "object_fit": null,
            "object_position": null,
            "order": null,
            "overflow": null,
            "overflow_x": null,
            "overflow_y": null,
            "padding": null,
            "right": null,
            "top": null,
            "visibility": null,
            "width": null
          }
        },
        "e0c2ed1064854a91bd0505dbba75b609": {
          "model_module": "@jupyter-widgets/controls",
          "model_name": "DescriptionStyleModel",
          "model_module_version": "1.5.0",
          "state": {
            "_model_module": "@jupyter-widgets/controls",
            "_model_module_version": "1.5.0",
            "_model_name": "DescriptionStyleModel",
            "_view_count": null,
            "_view_module": "@jupyter-widgets/base",
            "_view_module_version": "1.2.0",
            "_view_name": "StyleView",
            "description_width": ""
          }
        },
        "38750a4329e7413a8ead5fc2db416ffb": {
          "model_module": "@jupyter-widgets/base",
          "model_name": "LayoutModel",
          "model_module_version": "1.2.0",
          "state": {
            "_model_module": "@jupyter-widgets/base",
            "_model_module_version": "1.2.0",
            "_model_name": "LayoutModel",
            "_view_count": null,
            "_view_module": "@jupyter-widgets/base",
            "_view_module_version": "1.2.0",
            "_view_name": "LayoutView",
            "align_content": null,
            "align_items": null,
            "align_self": null,
            "border": null,
            "bottom": null,
            "display": null,
            "flex": null,
            "flex_flow": null,
            "grid_area": null,
            "grid_auto_columns": null,
            "grid_auto_flow": null,
            "grid_auto_rows": null,
            "grid_column": null,
            "grid_gap": null,
            "grid_row": null,
            "grid_template_areas": null,
            "grid_template_columns": null,
            "grid_template_rows": null,
            "height": null,
            "justify_content": null,
            "justify_items": null,
            "left": null,
            "margin": null,
            "max_height": null,
            "max_width": null,
            "min_height": null,
            "min_width": null,
            "object_fit": null,
            "object_position": null,
            "order": null,
            "overflow": null,
            "overflow_x": null,
            "overflow_y": null,
            "padding": null,
            "right": null,
            "top": null,
            "visibility": null,
            "width": null
          }
        },
        "9b83ce960b26444aa0550a72672c4624": {
          "model_module": "@jupyter-widgets/controls",
          "model_name": "ProgressStyleModel",
          "model_module_version": "1.5.0",
          "state": {
            "_model_module": "@jupyter-widgets/controls",
            "_model_module_version": "1.5.0",
            "_model_name": "ProgressStyleModel",
            "_view_count": null,
            "_view_module": "@jupyter-widgets/base",
            "_view_module_version": "1.2.0",
            "_view_name": "StyleView",
            "bar_color": null,
            "description_width": ""
          }
        },
        "70fc3cd43fd94be990ae088df63f26c2": {
          "model_module": "@jupyter-widgets/base",
          "model_name": "LayoutModel",
          "model_module_version": "1.2.0",
          "state": {
            "_model_module": "@jupyter-widgets/base",
            "_model_module_version": "1.2.0",
            "_model_name": "LayoutModel",
            "_view_count": null,
            "_view_module": "@jupyter-widgets/base",
            "_view_module_version": "1.2.0",
            "_view_name": "LayoutView",
            "align_content": null,
            "align_items": null,
            "align_self": null,
            "border": null,
            "bottom": null,
            "display": null,
            "flex": null,
            "flex_flow": null,
            "grid_area": null,
            "grid_auto_columns": null,
            "grid_auto_flow": null,
            "grid_auto_rows": null,
            "grid_column": null,
            "grid_gap": null,
            "grid_row": null,
            "grid_template_areas": null,
            "grid_template_columns": null,
            "grid_template_rows": null,
            "height": null,
            "justify_content": null,
            "justify_items": null,
            "left": null,
            "margin": null,
            "max_height": null,
            "max_width": null,
            "min_height": null,
            "min_width": null,
            "object_fit": null,
            "object_position": null,
            "order": null,
            "overflow": null,
            "overflow_x": null,
            "overflow_y": null,
            "padding": null,
            "right": null,
            "top": null,
            "visibility": null,
            "width": null
          }
        },
        "608aef16b9224361a0a6e7c96b9ccf0d": {
          "model_module": "@jupyter-widgets/controls",
          "model_name": "DescriptionStyleModel",
          "model_module_version": "1.5.0",
          "state": {
            "_model_module": "@jupyter-widgets/controls",
            "_model_module_version": "1.5.0",
            "_model_name": "DescriptionStyleModel",
            "_view_count": null,
            "_view_module": "@jupyter-widgets/base",
            "_view_module_version": "1.2.0",
            "_view_name": "StyleView",
            "description_width": ""
          }
        },
        "438a84de211a472680b21d4e73d037aa": {
          "model_module": "@jupyter-widgets/controls",
          "model_name": "HBoxModel",
          "model_module_version": "1.5.0",
          "state": {
            "_dom_classes": [],
            "_model_module": "@jupyter-widgets/controls",
            "_model_module_version": "1.5.0",
            "_model_name": "HBoxModel",
            "_view_count": null,
            "_view_module": "@jupyter-widgets/controls",
            "_view_module_version": "1.5.0",
            "_view_name": "HBoxView",
            "box_style": "",
            "children": [
              "IPY_MODEL_8974fbd5a7a34ce0bcaa2390891b33d4",
              "IPY_MODEL_5a0265dd40224db0b83bef52a78ac3ea",
              "IPY_MODEL_0810483fffa540d7b4dc213fe9e3d001"
            ],
            "layout": "IPY_MODEL_12822bc6b3e2419c920d5c4aef0cc21e"
          }
        },
        "8974fbd5a7a34ce0bcaa2390891b33d4": {
          "model_module": "@jupyter-widgets/controls",
          "model_name": "HTMLModel",
          "model_module_version": "1.5.0",
          "state": {
            "_dom_classes": [],
            "_model_module": "@jupyter-widgets/controls",
            "_model_module_version": "1.5.0",
            "_model_name": "HTMLModel",
            "_view_count": null,
            "_view_module": "@jupyter-widgets/controls",
            "_view_module_version": "1.5.0",
            "_view_name": "HTMLView",
            "description": "",
            "description_tooltip": null,
            "layout": "IPY_MODEL_62931b7eb0234051851030d6afcbc661",
            "placeholder": "​",
            "style": "IPY_MODEL_c2ed700faeae46c08bcb8c0a5a564f7e",
            "value": "100%"
          }
        },
        "5a0265dd40224db0b83bef52a78ac3ea": {
          "model_module": "@jupyter-widgets/controls",
          "model_name": "FloatProgressModel",
          "model_module_version": "1.5.0",
          "state": {
            "_dom_classes": [],
            "_model_module": "@jupyter-widgets/controls",
            "_model_module_version": "1.5.0",
            "_model_name": "FloatProgressModel",
            "_view_count": null,
            "_view_module": "@jupyter-widgets/controls",
            "_view_module_version": "1.5.0",
            "_view_name": "ProgressView",
            "bar_style": "success",
            "description": "",
            "description_tooltip": null,
            "layout": "IPY_MODEL_bad7a246ecb84c8dbb31cb91116ac9c7",
            "max": 1000000,
            "min": 0,
            "orientation": "horizontal",
            "style": "IPY_MODEL_f1af8d2820234b7da50aaffb9c8a3d1f",
            "value": 1000000
          }
        },
        "0810483fffa540d7b4dc213fe9e3d001": {
          "model_module": "@jupyter-widgets/controls",
          "model_name": "HTMLModel",
          "model_module_version": "1.5.0",
          "state": {
            "_dom_classes": [],
            "_model_module": "@jupyter-widgets/controls",
            "_model_module_version": "1.5.0",
            "_model_name": "HTMLModel",
            "_view_count": null,
            "_view_module": "@jupyter-widgets/controls",
            "_view_module_version": "1.5.0",
            "_view_name": "HTMLView",
            "description": "",
            "description_tooltip": null,
            "layout": "IPY_MODEL_8885cf892d3640a7ad1998d4a0776833",
            "placeholder": "​",
            "style": "IPY_MODEL_9a8d4425a65f4dbeb56b01090c58f99c",
            "value": " 1000000/1000000 [03:48&lt;00:00, 4642.47it/s]"
          }
        },
        "12822bc6b3e2419c920d5c4aef0cc21e": {
          "model_module": "@jupyter-widgets/base",
          "model_name": "LayoutModel",
          "model_module_version": "1.2.0",
          "state": {
            "_model_module": "@jupyter-widgets/base",
            "_model_module_version": "1.2.0",
            "_model_name": "LayoutModel",
            "_view_count": null,
            "_view_module": "@jupyter-widgets/base",
            "_view_module_version": "1.2.0",
            "_view_name": "LayoutView",
            "align_content": null,
            "align_items": null,
            "align_self": null,
            "border": null,
            "bottom": null,
            "display": null,
            "flex": null,
            "flex_flow": null,
            "grid_area": null,
            "grid_auto_columns": null,
            "grid_auto_flow": null,
            "grid_auto_rows": null,
            "grid_column": null,
            "grid_gap": null,
            "grid_row": null,
            "grid_template_areas": null,
            "grid_template_columns": null,
            "grid_template_rows": null,
            "height": null,
            "justify_content": null,
            "justify_items": null,
            "left": null,
            "margin": null,
            "max_height": null,
            "max_width": null,
            "min_height": null,
            "min_width": null,
            "object_fit": null,
            "object_position": null,
            "order": null,
            "overflow": null,
            "overflow_x": null,
            "overflow_y": null,
            "padding": null,
            "right": null,
            "top": null,
            "visibility": null,
            "width": null
          }
        },
        "62931b7eb0234051851030d6afcbc661": {
          "model_module": "@jupyter-widgets/base",
          "model_name": "LayoutModel",
          "model_module_version": "1.2.0",
          "state": {
            "_model_module": "@jupyter-widgets/base",
            "_model_module_version": "1.2.0",
            "_model_name": "LayoutModel",
            "_view_count": null,
            "_view_module": "@jupyter-widgets/base",
            "_view_module_version": "1.2.0",
            "_view_name": "LayoutView",
            "align_content": null,
            "align_items": null,
            "align_self": null,
            "border": null,
            "bottom": null,
            "display": null,
            "flex": null,
            "flex_flow": null,
            "grid_area": null,
            "grid_auto_columns": null,
            "grid_auto_flow": null,
            "grid_auto_rows": null,
            "grid_column": null,
            "grid_gap": null,
            "grid_row": null,
            "grid_template_areas": null,
            "grid_template_columns": null,
            "grid_template_rows": null,
            "height": null,
            "justify_content": null,
            "justify_items": null,
            "left": null,
            "margin": null,
            "max_height": null,
            "max_width": null,
            "min_height": null,
            "min_width": null,
            "object_fit": null,
            "object_position": null,
            "order": null,
            "overflow": null,
            "overflow_x": null,
            "overflow_y": null,
            "padding": null,
            "right": null,
            "top": null,
            "visibility": null,
            "width": null
          }
        },
        "c2ed700faeae46c08bcb8c0a5a564f7e": {
          "model_module": "@jupyter-widgets/controls",
          "model_name": "DescriptionStyleModel",
          "model_module_version": "1.5.0",
          "state": {
            "_model_module": "@jupyter-widgets/controls",
            "_model_module_version": "1.5.0",
            "_model_name": "DescriptionStyleModel",
            "_view_count": null,
            "_view_module": "@jupyter-widgets/base",
            "_view_module_version": "1.2.0",
            "_view_name": "StyleView",
            "description_width": ""
          }
        },
        "bad7a246ecb84c8dbb31cb91116ac9c7": {
          "model_module": "@jupyter-widgets/base",
          "model_name": "LayoutModel",
          "model_module_version": "1.2.0",
          "state": {
            "_model_module": "@jupyter-widgets/base",
            "_model_module_version": "1.2.0",
            "_model_name": "LayoutModel",
            "_view_count": null,
            "_view_module": "@jupyter-widgets/base",
            "_view_module_version": "1.2.0",
            "_view_name": "LayoutView",
            "align_content": null,
            "align_items": null,
            "align_self": null,
            "border": null,
            "bottom": null,
            "display": null,
            "flex": null,
            "flex_flow": null,
            "grid_area": null,
            "grid_auto_columns": null,
            "grid_auto_flow": null,
            "grid_auto_rows": null,
            "grid_column": null,
            "grid_gap": null,
            "grid_row": null,
            "grid_template_areas": null,
            "grid_template_columns": null,
            "grid_template_rows": null,
            "height": null,
            "justify_content": null,
            "justify_items": null,
            "left": null,
            "margin": null,
            "max_height": null,
            "max_width": null,
            "min_height": null,
            "min_width": null,
            "object_fit": null,
            "object_position": null,
            "order": null,
            "overflow": null,
            "overflow_x": null,
            "overflow_y": null,
            "padding": null,
            "right": null,
            "top": null,
            "visibility": null,
            "width": null
          }
        },
        "f1af8d2820234b7da50aaffb9c8a3d1f": {
          "model_module": "@jupyter-widgets/controls",
          "model_name": "ProgressStyleModel",
          "model_module_version": "1.5.0",
          "state": {
            "_model_module": "@jupyter-widgets/controls",
            "_model_module_version": "1.5.0",
            "_model_name": "ProgressStyleModel",
            "_view_count": null,
            "_view_module": "@jupyter-widgets/base",
            "_view_module_version": "1.2.0",
            "_view_name": "StyleView",
            "bar_color": null,
            "description_width": ""
          }
        },
        "8885cf892d3640a7ad1998d4a0776833": {
          "model_module": "@jupyter-widgets/base",
          "model_name": "LayoutModel",
          "model_module_version": "1.2.0",
          "state": {
            "_model_module": "@jupyter-widgets/base",
            "_model_module_version": "1.2.0",
            "_model_name": "LayoutModel",
            "_view_count": null,
            "_view_module": "@jupyter-widgets/base",
            "_view_module_version": "1.2.0",
            "_view_name": "LayoutView",
            "align_content": null,
            "align_items": null,
            "align_self": null,
            "border": null,
            "bottom": null,
            "display": null,
            "flex": null,
            "flex_flow": null,
            "grid_area": null,
            "grid_auto_columns": null,
            "grid_auto_flow": null,
            "grid_auto_rows": null,
            "grid_column": null,
            "grid_gap": null,
            "grid_row": null,
            "grid_template_areas": null,
            "grid_template_columns": null,
            "grid_template_rows": null,
            "height": null,
            "justify_content": null,
            "justify_items": null,
            "left": null,
            "margin": null,
            "max_height": null,
            "max_width": null,
            "min_height": null,
            "min_width": null,
            "object_fit": null,
            "object_position": null,
            "order": null,
            "overflow": null,
            "overflow_x": null,
            "overflow_y": null,
            "padding": null,
            "right": null,
            "top": null,
            "visibility": null,
            "width": null
          }
        },
        "9a8d4425a65f4dbeb56b01090c58f99c": {
          "model_module": "@jupyter-widgets/controls",
          "model_name": "DescriptionStyleModel",
          "model_module_version": "1.5.0",
          "state": {
            "_model_module": "@jupyter-widgets/controls",
            "_model_module_version": "1.5.0",
            "_model_name": "DescriptionStyleModel",
            "_view_count": null,
            "_view_module": "@jupyter-widgets/base",
            "_view_module_version": "1.2.0",
            "_view_name": "StyleView",
            "description_width": ""
          }
        },
        "a2eeef47b35f4489ac1f07f3ec606991": {
          "model_module": "@jupyter-widgets/controls",
          "model_name": "HBoxModel",
          "model_module_version": "1.5.0",
          "state": {
            "_dom_classes": [],
            "_model_module": "@jupyter-widgets/controls",
            "_model_module_version": "1.5.0",
            "_model_name": "HBoxModel",
            "_view_count": null,
            "_view_module": "@jupyter-widgets/controls",
            "_view_module_version": "1.5.0",
            "_view_name": "HBoxView",
            "box_style": "",
            "children": [
              "IPY_MODEL_df9004b8eda0429aa4130ef807ea5d44",
              "IPY_MODEL_3d5c040a07df4895804b2371880f5d65",
              "IPY_MODEL_966a9cafd6934ced9ccc788dc2973c30"
            ],
            "layout": "IPY_MODEL_7b013082417e4dc8a86a0c5ce8025a58"
          }
        },
        "df9004b8eda0429aa4130ef807ea5d44": {
          "model_module": "@jupyter-widgets/controls",
          "model_name": "HTMLModel",
          "model_module_version": "1.5.0",
          "state": {
            "_dom_classes": [],
            "_model_module": "@jupyter-widgets/controls",
            "_model_module_version": "1.5.0",
            "_model_name": "HTMLModel",
            "_view_count": null,
            "_view_module": "@jupyter-widgets/controls",
            "_view_module_version": "1.5.0",
            "_view_name": "HTMLView",
            "description": "",
            "description_tooltip": null,
            "layout": "IPY_MODEL_7a87a3a96c90423d86b74346b75dac05",
            "placeholder": "​",
            "style": "IPY_MODEL_5dacf05c62374433bbffedfe165967fb",
            "value": "100%"
          }
        },
        "3d5c040a07df4895804b2371880f5d65": {
          "model_module": "@jupyter-widgets/controls",
          "model_name": "FloatProgressModel",
          "model_module_version": "1.5.0",
          "state": {
            "_dom_classes": [],
            "_model_module": "@jupyter-widgets/controls",
            "_model_module_version": "1.5.0",
            "_model_name": "FloatProgressModel",
            "_view_count": null,
            "_view_module": "@jupyter-widgets/controls",
            "_view_module_version": "1.5.0",
            "_view_name": "ProgressView",
            "bar_style": "success",
            "description": "",
            "description_tooltip": null,
            "layout": "IPY_MODEL_41d6870c145a4f2d8fe786ec5066d500",
            "max": 220100,
            "min": 0,
            "orientation": "horizontal",
            "style": "IPY_MODEL_2398007d6c5a41c2a733ae5e87c87985",
            "value": 220100
          }
        },
        "966a9cafd6934ced9ccc788dc2973c30": {
          "model_module": "@jupyter-widgets/controls",
          "model_name": "HTMLModel",
          "model_module_version": "1.5.0",
          "state": {
            "_dom_classes": [],
            "_model_module": "@jupyter-widgets/controls",
            "_model_module_version": "1.5.0",
            "_model_name": "HTMLModel",
            "_view_count": null,
            "_view_module": "@jupyter-widgets/controls",
            "_view_module_version": "1.5.0",
            "_view_name": "HTMLView",
            "description": "",
            "description_tooltip": null,
            "layout": "IPY_MODEL_d0bf84686a2042d28e23b989a5df4b23",
            "placeholder": "​",
            "style": "IPY_MODEL_3132615aed494d048e13b74f3124955e",
            "value": " 220100/220100 [00:40&lt;00:00, 21101.16it/s]"
          }
        },
        "7b013082417e4dc8a86a0c5ce8025a58": {
          "model_module": "@jupyter-widgets/base",
          "model_name": "LayoutModel",
          "model_module_version": "1.2.0",
          "state": {
            "_model_module": "@jupyter-widgets/base",
            "_model_module_version": "1.2.0",
            "_model_name": "LayoutModel",
            "_view_count": null,
            "_view_module": "@jupyter-widgets/base",
            "_view_module_version": "1.2.0",
            "_view_name": "LayoutView",
            "align_content": null,
            "align_items": null,
            "align_self": null,
            "border": null,
            "bottom": null,
            "display": null,
            "flex": null,
            "flex_flow": null,
            "grid_area": null,
            "grid_auto_columns": null,
            "grid_auto_flow": null,
            "grid_auto_rows": null,
            "grid_column": null,
            "grid_gap": null,
            "grid_row": null,
            "grid_template_areas": null,
            "grid_template_columns": null,
            "grid_template_rows": null,
            "height": null,
            "justify_content": null,
            "justify_items": null,
            "left": null,
            "margin": null,
            "max_height": null,
            "max_width": null,
            "min_height": null,
            "min_width": null,
            "object_fit": null,
            "object_position": null,
            "order": null,
            "overflow": null,
            "overflow_x": null,
            "overflow_y": null,
            "padding": null,
            "right": null,
            "top": null,
            "visibility": null,
            "width": null
          }
        },
        "7a87a3a96c90423d86b74346b75dac05": {
          "model_module": "@jupyter-widgets/base",
          "model_name": "LayoutModel",
          "model_module_version": "1.2.0",
          "state": {
            "_model_module": "@jupyter-widgets/base",
            "_model_module_version": "1.2.0",
            "_model_name": "LayoutModel",
            "_view_count": null,
            "_view_module": "@jupyter-widgets/base",
            "_view_module_version": "1.2.0",
            "_view_name": "LayoutView",
            "align_content": null,
            "align_items": null,
            "align_self": null,
            "border": null,
            "bottom": null,
            "display": null,
            "flex": null,
            "flex_flow": null,
            "grid_area": null,
            "grid_auto_columns": null,
            "grid_auto_flow": null,
            "grid_auto_rows": null,
            "grid_column": null,
            "grid_gap": null,
            "grid_row": null,
            "grid_template_areas": null,
            "grid_template_columns": null,
            "grid_template_rows": null,
            "height": null,
            "justify_content": null,
            "justify_items": null,
            "left": null,
            "margin": null,
            "max_height": null,
            "max_width": null,
            "min_height": null,
            "min_width": null,
            "object_fit": null,
            "object_position": null,
            "order": null,
            "overflow": null,
            "overflow_x": null,
            "overflow_y": null,
            "padding": null,
            "right": null,
            "top": null,
            "visibility": null,
            "width": null
          }
        },
        "5dacf05c62374433bbffedfe165967fb": {
          "model_module": "@jupyter-widgets/controls",
          "model_name": "DescriptionStyleModel",
          "model_module_version": "1.5.0",
          "state": {
            "_model_module": "@jupyter-widgets/controls",
            "_model_module_version": "1.5.0",
            "_model_name": "DescriptionStyleModel",
            "_view_count": null,
            "_view_module": "@jupyter-widgets/base",
            "_view_module_version": "1.2.0",
            "_view_name": "StyleView",
            "description_width": ""
          }
        },
        "41d6870c145a4f2d8fe786ec5066d500": {
          "model_module": "@jupyter-widgets/base",
          "model_name": "LayoutModel",
          "model_module_version": "1.2.0",
          "state": {
            "_model_module": "@jupyter-widgets/base",
            "_model_module_version": "1.2.0",
            "_model_name": "LayoutModel",
            "_view_count": null,
            "_view_module": "@jupyter-widgets/base",
            "_view_module_version": "1.2.0",
            "_view_name": "LayoutView",
            "align_content": null,
            "align_items": null,
            "align_self": null,
            "border": null,
            "bottom": null,
            "display": null,
            "flex": null,
            "flex_flow": null,
            "grid_area": null,
            "grid_auto_columns": null,
            "grid_auto_flow": null,
            "grid_auto_rows": null,
            "grid_column": null,
            "grid_gap": null,
            "grid_row": null,
            "grid_template_areas": null,
            "grid_template_columns": null,
            "grid_template_rows": null,
            "height": null,
            "justify_content": null,
            "justify_items": null,
            "left": null,
            "margin": null,
            "max_height": null,
            "max_width": null,
            "min_height": null,
            "min_width": null,
            "object_fit": null,
            "object_position": null,
            "order": null,
            "overflow": null,
            "overflow_x": null,
            "overflow_y": null,
            "padding": null,
            "right": null,
            "top": null,
            "visibility": null,
            "width": null
          }
        },
        "2398007d6c5a41c2a733ae5e87c87985": {
          "model_module": "@jupyter-widgets/controls",
          "model_name": "ProgressStyleModel",
          "model_module_version": "1.5.0",
          "state": {
            "_model_module": "@jupyter-widgets/controls",
            "_model_module_version": "1.5.0",
            "_model_name": "ProgressStyleModel",
            "_view_count": null,
            "_view_module": "@jupyter-widgets/base",
            "_view_module_version": "1.2.0",
            "_view_name": "StyleView",
            "bar_color": null,
            "description_width": ""
          }
        },
        "d0bf84686a2042d28e23b989a5df4b23": {
          "model_module": "@jupyter-widgets/base",
          "model_name": "LayoutModel",
          "model_module_version": "1.2.0",
          "state": {
            "_model_module": "@jupyter-widgets/base",
            "_model_module_version": "1.2.0",
            "_model_name": "LayoutModel",
            "_view_count": null,
            "_view_module": "@jupyter-widgets/base",
            "_view_module_version": "1.2.0",
            "_view_name": "LayoutView",
            "align_content": null,
            "align_items": null,
            "align_self": null,
            "border": null,
            "bottom": null,
            "display": null,
            "flex": null,
            "flex_flow": null,
            "grid_area": null,
            "grid_auto_columns": null,
            "grid_auto_flow": null,
            "grid_auto_rows": null,
            "grid_column": null,
            "grid_gap": null,
            "grid_row": null,
            "grid_template_areas": null,
            "grid_template_columns": null,
            "grid_template_rows": null,
            "height": null,
            "justify_content": null,
            "justify_items": null,
            "left": null,
            "margin": null,
            "max_height": null,
            "max_width": null,
            "min_height": null,
            "min_width": null,
            "object_fit": null,
            "object_position": null,
            "order": null,
            "overflow": null,
            "overflow_x": null,
            "overflow_y": null,
            "padding": null,
            "right": null,
            "top": null,
            "visibility": null,
            "width": null
          }
        },
        "3132615aed494d048e13b74f3124955e": {
          "model_module": "@jupyter-widgets/controls",
          "model_name": "DescriptionStyleModel",
          "model_module_version": "1.5.0",
          "state": {
            "_model_module": "@jupyter-widgets/controls",
            "_model_module_version": "1.5.0",
            "_model_name": "DescriptionStyleModel",
            "_view_count": null,
            "_view_module": "@jupyter-widgets/base",
            "_view_module_version": "1.2.0",
            "_view_name": "StyleView",
            "description_width": ""
          }
        }
      }
    }
  },
  "cells": [
    {
      "cell_type": "markdown",
      "metadata": {
        "id": "view-in-github",
        "colab_type": "text"
      },
      "source": [
        "<a href=\"https://colab.research.google.com/github/roy029/mpT5/blob/main/create_mt5_enjapy.ipynb\" target=\"_parent\"><img src=\"https://colab.research.google.com/assets/colab-badge.svg\" alt=\"Open In Colab\"/></a>"
      ]
    },
    {
      "cell_type": "code",
      "metadata": {
        "id": "BoiF06nfGvtW",
        "colab": {
          "base_uri": "https://localhost:8080/"
        },
        "outputId": "29b17ad4-a49f-424b-c44b-af6bedeeec7b"
      },
      "source": [
        "!pip install transformers sentencepiece"
      ],
      "execution_count": 1,
      "outputs": [
        {
          "output_type": "stream",
          "name": "stdout",
          "text": [
            "Requirement already satisfied: transformers in /usr/local/lib/python3.7/dist-packages (4.17.0)\n",
            "Requirement already satisfied: sentencepiece in /usr/local/lib/python3.7/dist-packages (0.1.96)\n",
            "Requirement already satisfied: requests in /usr/local/lib/python3.7/dist-packages (from transformers) (2.23.0)\n",
            "Requirement already satisfied: numpy>=1.17 in /usr/local/lib/python3.7/dist-packages (from transformers) (1.21.5)\n",
            "Requirement already satisfied: filelock in /usr/local/lib/python3.7/dist-packages (from transformers) (3.6.0)\n",
            "Requirement already satisfied: tokenizers!=0.11.3,>=0.11.1 in /usr/local/lib/python3.7/dist-packages (from transformers) (0.11.6)\n",
            "Requirement already satisfied: tqdm>=4.27 in /usr/local/lib/python3.7/dist-packages (from transformers) (4.63.0)\n",
            "Requirement already satisfied: importlib-metadata in /usr/local/lib/python3.7/dist-packages (from transformers) (4.11.3)\n",
            "Requirement already satisfied: pyyaml>=5.1 in /usr/local/lib/python3.7/dist-packages (from transformers) (6.0)\n",
            "Requirement already satisfied: regex!=2019.12.17 in /usr/local/lib/python3.7/dist-packages (from transformers) (2019.12.20)\n",
            "Requirement already satisfied: huggingface-hub<1.0,>=0.1.0 in /usr/local/lib/python3.7/dist-packages (from transformers) (0.5.0)\n",
            "Requirement already satisfied: packaging>=20.0 in /usr/local/lib/python3.7/dist-packages (from transformers) (21.3)\n",
            "Requirement already satisfied: sacremoses in /usr/local/lib/python3.7/dist-packages (from transformers) (0.0.49)\n",
            "Requirement already satisfied: typing-extensions>=3.7.4.3 in /usr/local/lib/python3.7/dist-packages (from huggingface-hub<1.0,>=0.1.0->transformers) (3.10.0.2)\n",
            "Requirement already satisfied: pyparsing!=3.0.5,>=2.0.2 in /usr/local/lib/python3.7/dist-packages (from packaging>=20.0->transformers) (3.0.7)\n",
            "Requirement already satisfied: zipp>=0.5 in /usr/local/lib/python3.7/dist-packages (from importlib-metadata->transformers) (3.7.0)\n",
            "Requirement already satisfied: chardet<4,>=3.0.2 in /usr/local/lib/python3.7/dist-packages (from requests->transformers) (3.0.4)\n",
            "Requirement already satisfied: idna<3,>=2.5 in /usr/local/lib/python3.7/dist-packages (from requests->transformers) (2.10)\n",
            "Requirement already satisfied: urllib3!=1.25.0,!=1.25.1,<1.26,>=1.21.1 in /usr/local/lib/python3.7/dist-packages (from requests->transformers) (1.24.3)\n",
            "Requirement already satisfied: certifi>=2017.4.17 in /usr/local/lib/python3.7/dist-packages (from requests->transformers) (2021.10.8)\n",
            "Requirement already satisfied: six in /usr/local/lib/python3.7/dist-packages (from sacremoses->transformers) (1.15.0)\n",
            "Requirement already satisfied: click in /usr/local/lib/python3.7/dist-packages (from sacremoses->transformers) (7.1.2)\n",
            "Requirement already satisfied: joblib in /usr/local/lib/python3.7/dist-packages (from sacremoses->transformers) (1.1.0)\n"
          ]
        }
      ]
    },
    {
      "cell_type": "markdown",
      "metadata": {
        "id": "oh2xfITDhN2u"
      },
      "source": [
        "このノートブックの目的は、mT5モデルの多言語版から英語版、日本語版を作成することです。\n",
        "Pythonコードを扱うNLPタスクに対してmT5を使うことも考えていきたい。"
      ]
    },
    {
      "cell_type": "markdown",
      "metadata": {
        "id": "zcVexj3Ye6X3"
      },
      "source": [
        "# Removing the unused vocabulary"
      ]
    },
    {
      "cell_type": "code",
      "metadata": {
        "id": "X99M7UWoHC9k"
      },
      "source": [
        "from transformers import T5ForConditionalGeneration, T5Tokenizer\n",
        "import torch"
      ],
      "execution_count": 2,
      "outputs": []
    },
    {
      "cell_type": "code",
      "metadata": {
        "colab": {
          "base_uri": "https://localhost:8080/"
        },
        "id": "7OnBRq8pHFDN",
        "outputId": "031264b3-ccab-4c9e-91df-29c082be6b5a"
      },
      "source": [
        "tokenizer = T5Tokenizer.from_pretrained(\"google/mt5-base\")\n",
        "tokenizer"
      ],
      "execution_count": 3,
      "outputs": [
        {
          "output_type": "execute_result",
          "data": {
            "text/plain": [
              "PreTrainedTokenizer(name_or_path='google/mt5-base', vocab_size=250100, model_max_len=1000000000000000019884624838656, is_fast=False, padding_side='right', truncation_side='right', special_tokens={'eos_token': '</s>', 'unk_token': '<unk>', 'pad_token': '<pad>'})"
            ]
          },
          "metadata": {},
          "execution_count": 3
        }
      ]
    },
    {
      "cell_type": "code",
      "metadata": {
        "id": "HkXHkM6OHJcH",
        "colab": {
          "base_uri": "https://localhost:8080/"
        },
        "outputId": "d7d631aa-1d7c-41fc-b1f2-aad3f7bd9ded"
      },
      "source": [
        "model = T5ForConditionalGeneration.from_pretrained('google/mt5-base')"
      ],
      "execution_count": 4,
      "outputs": [
        {
          "output_type": "stream",
          "name": "stderr",
          "text": [
            "You are using a model of type mt5 to instantiate a model of type t5. This is not supported for all configurations of models and can yield errors.\n"
          ]
        }
      ]
    },
    {
      "cell_type": "markdown",
      "metadata": {
        "id": "YMItls1shI3-"
      },
      "source": [
        "Our tokenizer contains 250K tokens, "
      ]
    },
    {
      "cell_type": "code",
      "metadata": {
        "colab": {
          "base_uri": "https://localhost:8080/"
        },
        "id": "U0vhvaP8HKm8",
        "outputId": "8634b34d-c5e3-49b6-8c57-dd6fa9002570"
      },
      "source": [
        "print(tokenizer.vocab_size)"
      ],
      "execution_count": 5,
      "outputs": [
        {
          "output_type": "stream",
          "name": "stdout",
          "text": [
            "250100\n"
          ]
        }
      ]
    },
    {
      "cell_type": "markdown",
      "metadata": {
        "id": "hX8pzm4nhhMt"
      },
      "source": [
        "The model has 582M parameters. "
      ]
    },
    {
      "cell_type": "code",
      "metadata": {
        "colab": {
          "base_uri": "https://localhost:8080/"
        },
        "id": "hz6Bv4tZIsX5",
        "outputId": "e3327b17-1f0b-4471-8812-a51ef69b41ca"
      },
      "source": [
        "def msize(m):\n",
        "    return sum(p.numel() for p in m.parameters())\n",
        "\n",
        "original_size = msize(model)\n",
        "print(msize(model))\n",
        "print(msize(model.shared))\n",
        "print('encoder')\n",
        "print(msize(model.encoder))\n",
        "print(msize(model.encoder.block))\n",
        "print('decoder')\n",
        "print(msize(model.decoder))\n",
        "print(msize(model.decoder.block))\n",
        "print(msize(model.lm_head))"
      ],
      "execution_count": 6,
      "outputs": [
        {
          "output_type": "stream",
          "name": "stdout",
          "text": [
            "582401280\n",
            "192086016\n",
            "encoder\n",
            "277040256\n",
            "84953472\n",
            "decoder\n",
            "305361024\n",
            "113274240\n",
            "192086016\n"
          ]
        }
      ]
    },
    {
      "cell_type": "markdown",
      "metadata": {
        "id": "18ckhebWLLra"
      },
      "source": [
        "Input and output embeddings are 66% of the whole model"
      ]
    },
    {
      "cell_type": "code",
      "metadata": {
        "colab": {
          "base_uri": "https://localhost:8080/"
        },
        "id": "hmvmyYsyHh2s",
        "outputId": "983e8286-bd9d-4bcf-d14f-df48cda1dfea"
      },
      "source": [
        "print(msize(model.shared) / msize(model))\n",
        "print(msize(model.lm_head) / msize(model))"
      ],
      "execution_count": 7,
      "outputs": [
        {
          "output_type": "stream",
          "name": "stdout",
          "text": [
            "0.32981729710484153\n",
            "0.32981729710484153\n"
          ]
        }
      ]
    },
    {
      "cell_type": "markdown",
      "metadata": {
        "id": "amFXHV9OL9SU"
      },
      "source": [
        "# Determine the new tokens"
      ]
    },
    {
      "cell_type": "markdown",
      "metadata": {
        "id": "NfeGCTv5Vvmu"
      },
      "source": [
        "Take a file from https://wortschatz.uni-leipzig.de/en/download/Russian as a representation of Russian language. It contains 1M sentences. \n",
        "\n",
        "Also take a similar representation of English, because we want our model to be bilingual, and English shares few tokens with Russian.\n",
        "\n",
        "ロシア語と同様にして1M行を含む日本語辞書を用意する。"
      ]
    },
    {
      "cell_type": "code",
      "metadata": {
        "id": "WxsNhpKfME5W",
        "colab": {
          "base_uri": "https://localhost:8080/"
        },
        "outputId": "5e542f7f-f32b-4bc6-868e-93a0aca81436"
      },
      "source": [
        "# 日本語\n",
        "!wget http://pcai056.informatik.uni-leipzig.de/downloads/corpora/jpn_wikipedia_2021_1M.tar.gz\n",
        "!tar -xsvf jpn_wikipedia_2021_1M.tar.gz"
      ],
      "execution_count": 8,
      "outputs": [
        {
          "output_type": "stream",
          "name": "stdout",
          "text": [
            "--2022-04-06 06:12:45--  http://pcai056.informatik.uni-leipzig.de/downloads/corpora/jpn_wikipedia_2021_1M.tar.gz\n",
            "Resolving pcai056.informatik.uni-leipzig.de (pcai056.informatik.uni-leipzig.de)... 139.18.2.216\n",
            "Connecting to pcai056.informatik.uni-leipzig.de (pcai056.informatik.uni-leipzig.de)|139.18.2.216|:80... connected.\n",
            "HTTP request sent, awaiting response... 200 OK\n",
            "Length: 252537981 (241M) [application/x-gzip]\n",
            "Saving to: ‘jpn_wikipedia_2021_1M.tar.gz.1’\n",
            "\n",
            "jpn_wikipedia_2021_ 100%[===================>] 240.84M  10.8MB/s    in 24s     \n",
            "\n",
            "2022-04-06 06:13:11 (9.86 MB/s) - ‘jpn_wikipedia_2021_1M.tar.gz.1’ saved [252537981/252537981]\n",
            "\n",
            "jpn_wikipedia_2021_1M/\n",
            "jpn_wikipedia_2021_1M/jpn_wikipedia_2021_1M-import.sql\n",
            "jpn_wikipedia_2021_1M/jpn_wikipedia_2021_1M-sources.txt\n",
            "jpn_wikipedia_2021_1M/jpn_wikipedia_2021_1M-inv_so.txt\n",
            "jpn_wikipedia_2021_1M/jpn_wikipedia_2021_1M-inv_w.txt\n",
            "jpn_wikipedia_2021_1M/jpn_wikipedia_2021_1M-co_s.txt\n",
            "jpn_wikipedia_2021_1M/jpn_wikipedia_2021_1M-sentences.txt\n",
            "jpn_wikipedia_2021_1M/jpn_wikipedia_2021_1M-words.txt\n",
            "jpn_wikipedia_2021_1M/jpn_wikipedia_2021_1M-co_n.txt\n"
          ]
        }
      ]
    },
    {
      "cell_type": "code",
      "metadata": {
        "id": "XNHwPMCHiRhr",
        "colab": {
          "base_uri": "https://localhost:8080/"
        },
        "outputId": "b9adeea1-9d26-438b-8dbc-bc8d1115adbd"
      },
      "source": [
        "# 英語\n",
        "!wget http://pcai056.informatik.uni-leipzig.de/downloads/corpora/eng-com_web-public_2018_1M.tar.gz\n",
        "!tar -xsvf eng-com_web-public_2018_1M.tar.gz"
      ],
      "execution_count": 9,
      "outputs": [
        {
          "output_type": "stream",
          "name": "stdout",
          "text": [
            "--2022-04-06 06:13:19--  http://pcai056.informatik.uni-leipzig.de/downloads/corpora/eng-com_web-public_2018_1M.tar.gz\n",
            "Resolving pcai056.informatik.uni-leipzig.de (pcai056.informatik.uni-leipzig.de)... 139.18.2.216\n",
            "Connecting to pcai056.informatik.uni-leipzig.de (pcai056.informatik.uni-leipzig.de)|139.18.2.216|:80... connected.\n",
            "HTTP request sent, awaiting response... 200 OK\n",
            "Length: 228887647 (218M) [application/x-gzip]\n",
            "Saving to: ‘eng-com_web-public_2018_1M.tar.gz.2’\n",
            "\n",
            "eng-com_web-public_ 100%[===================>] 218.28M  10.8MB/s    in 22s     \n",
            "\n",
            "2022-04-06 06:13:42 (9.79 MB/s) - ‘eng-com_web-public_2018_1M.tar.gz.2’ saved [228887647/228887647]\n",
            "\n",
            "eng-com_web-public_2018_1M/\n",
            "eng-com_web-public_2018_1M/eng-com_web-public_2018_1M-co_s.txt\n",
            "eng-com_web-public_2018_1M/eng-com_web-public_2018_1M-inv_so.txt\n",
            "eng-com_web-public_2018_1M/eng-com_web-public_2018_1M-words.txt\n",
            "eng-com_web-public_2018_1M/eng-com_web-public_2018_1M-sentences.txt\n",
            "eng-com_web-public_2018_1M/eng-com_web-public_2018_1M-sources.txt\n",
            "eng-com_web-public_2018_1M/eng-com_web-public_2018_1M-co_n.txt\n",
            "eng-com_web-public_2018_1M/eng-com_web-public_2018_1M-import.sql\n",
            "eng-com_web-public_2018_1M/eng-com_web-public_2018_1M-inv_w.txt\n"
          ]
        }
      ]
    },
    {
      "cell_type": "code",
      "source": [
        "#conalaコード\n",
        "!git clone https://github.com/y-akinobu/corpus_Python-JPN.git"
      ],
      "metadata": {
        "colab": {
          "base_uri": "https://localhost:8080/"
        },
        "id": "QQeOXdWQF_tL",
        "outputId": "fa91bb32-6ead-40b6-bd01-80810c0b39c4"
      },
      "execution_count": 10,
      "outputs": [
        {
          "output_type": "stream",
          "name": "stdout",
          "text": [
            "fatal: destination path 'corpus_Python-JPN' already exists and is not an empty directory.\n"
          ]
        }
      ]
    },
    {
      "cell_type": "markdown",
      "metadata": {
        "id": "gqjTHFJIiZTk"
      },
      "source": [
        "Let us look at the sentences"
      ]
    },
    {
      "cell_type": "code",
      "metadata": {
        "colab": {
          "base_uri": "https://localhost:8080/",
          "height": 302
        },
        "id": "IoJlXMw_M7pT",
        "outputId": "607be3b2-b6de-42d3-e783-8f5e04cb63ac"
      },
      "source": [
        "import pandas as pd\n",
        "pd.options.display.max_colwidth = 300\n",
        "import csv\n",
        "fname = '/content/jpn_wikipedia_2021_1M/jpn_wikipedia_2021_1M-sentences.txt'\n",
        "df_ja = pd.read_csv(fname, sep='\\t', header=None, quoting=csv.QUOTE_NONE)\n",
        "df_ja.columns = ['idx', 'text']\n",
        "df_ja.sample(5)"
      ],
      "execution_count": 11,
      "outputs": [
        {
          "output_type": "execute_result",
          "data": {
            "text/plain": [
              "           idx                                                          text\n",
              "308226  308227                      』に収録されている水瀬伊織の「フタリの記憶」の再生回数は2000回を超えている。\n",
              "79438    79439          このようなillの確認応答によって、それまでに送信した全てのパケットが正しく受信されたことが保証される。\n",
              "475582  475583  引退後は、2012年に自身の体操クラブである米田功体操クラブを設立、2013年1月からは徳洲会体操クラブの監督となる 。\n",
              "982170  982171                                          サマルカンドからの風景（1900年以前）\n",
              "744245  744246                                             町の北と南はいずれも高い山が続き、"
            ],
            "text/html": [
              "\n",
              "  <div id=\"df-ba266cad-1c02-4827-b361-052007172ffe\">\n",
              "    <div class=\"colab-df-container\">\n",
              "      <div>\n",
              "<style scoped>\n",
              "    .dataframe tbody tr th:only-of-type {\n",
              "        vertical-align: middle;\n",
              "    }\n",
              "\n",
              "    .dataframe tbody tr th {\n",
              "        vertical-align: top;\n",
              "    }\n",
              "\n",
              "    .dataframe thead th {\n",
              "        text-align: right;\n",
              "    }\n",
              "</style>\n",
              "<table border=\"1\" class=\"dataframe\">\n",
              "  <thead>\n",
              "    <tr style=\"text-align: right;\">\n",
              "      <th></th>\n",
              "      <th>idx</th>\n",
              "      <th>text</th>\n",
              "    </tr>\n",
              "  </thead>\n",
              "  <tbody>\n",
              "    <tr>\n",
              "      <th>308226</th>\n",
              "      <td>308227</td>\n",
              "      <td>』に収録されている水瀬伊織の「フタリの記憶」の再生回数は2000回を超えている。</td>\n",
              "    </tr>\n",
              "    <tr>\n",
              "      <th>79438</th>\n",
              "      <td>79439</td>\n",
              "      <td>このようなillの確認応答によって、それまでに送信した全てのパケットが正しく受信されたことが保証される。</td>\n",
              "    </tr>\n",
              "    <tr>\n",
              "      <th>475582</th>\n",
              "      <td>475583</td>\n",
              "      <td>引退後は、2012年に自身の体操クラブである米田功体操クラブを設立、2013年1月からは徳洲会体操クラブの監督となる 。</td>\n",
              "    </tr>\n",
              "    <tr>\n",
              "      <th>982170</th>\n",
              "      <td>982171</td>\n",
              "      <td>サマルカンドからの風景（1900年以前）</td>\n",
              "    </tr>\n",
              "    <tr>\n",
              "      <th>744245</th>\n",
              "      <td>744246</td>\n",
              "      <td>町の北と南はいずれも高い山が続き、</td>\n",
              "    </tr>\n",
              "  </tbody>\n",
              "</table>\n",
              "</div>\n",
              "      <button class=\"colab-df-convert\" onclick=\"convertToInteractive('df-ba266cad-1c02-4827-b361-052007172ffe')\"\n",
              "              title=\"Convert this dataframe to an interactive table.\"\n",
              "              style=\"display:none;\">\n",
              "        \n",
              "  <svg xmlns=\"http://www.w3.org/2000/svg\" height=\"24px\"viewBox=\"0 0 24 24\"\n",
              "       width=\"24px\">\n",
              "    <path d=\"M0 0h24v24H0V0z\" fill=\"none\"/>\n",
              "    <path d=\"M18.56 5.44l.94 2.06.94-2.06 2.06-.94-2.06-.94-.94-2.06-.94 2.06-2.06.94zm-11 1L8.5 8.5l.94-2.06 2.06-.94-2.06-.94L8.5 2.5l-.94 2.06-2.06.94zm10 10l.94 2.06.94-2.06 2.06-.94-2.06-.94-.94-2.06-.94 2.06-2.06.94z\"/><path d=\"M17.41 7.96l-1.37-1.37c-.4-.4-.92-.59-1.43-.59-.52 0-1.04.2-1.43.59L10.3 9.45l-7.72 7.72c-.78.78-.78 2.05 0 2.83L4 21.41c.39.39.9.59 1.41.59.51 0 1.02-.2 1.41-.59l7.78-7.78 2.81-2.81c.8-.78.8-2.07 0-2.86zM5.41 20L4 18.59l7.72-7.72 1.47 1.35L5.41 20z\"/>\n",
              "  </svg>\n",
              "      </button>\n",
              "      \n",
              "  <style>\n",
              "    .colab-df-container {\n",
              "      display:flex;\n",
              "      flex-wrap:wrap;\n",
              "      gap: 12px;\n",
              "    }\n",
              "\n",
              "    .colab-df-convert {\n",
              "      background-color: #E8F0FE;\n",
              "      border: none;\n",
              "      border-radius: 50%;\n",
              "      cursor: pointer;\n",
              "      display: none;\n",
              "      fill: #1967D2;\n",
              "      height: 32px;\n",
              "      padding: 0 0 0 0;\n",
              "      width: 32px;\n",
              "    }\n",
              "\n",
              "    .colab-df-convert:hover {\n",
              "      background-color: #E2EBFA;\n",
              "      box-shadow: 0px 1px 2px rgba(60, 64, 67, 0.3), 0px 1px 3px 1px rgba(60, 64, 67, 0.15);\n",
              "      fill: #174EA6;\n",
              "    }\n",
              "\n",
              "    [theme=dark] .colab-df-convert {\n",
              "      background-color: #3B4455;\n",
              "      fill: #D2E3FC;\n",
              "    }\n",
              "\n",
              "    [theme=dark] .colab-df-convert:hover {\n",
              "      background-color: #434B5C;\n",
              "      box-shadow: 0px 1px 3px 1px rgba(0, 0, 0, 0.15);\n",
              "      filter: drop-shadow(0px 1px 2px rgba(0, 0, 0, 0.3));\n",
              "      fill: #FFFFFF;\n",
              "    }\n",
              "  </style>\n",
              "\n",
              "      <script>\n",
              "        const buttonEl =\n",
              "          document.querySelector('#df-ba266cad-1c02-4827-b361-052007172ffe button.colab-df-convert');\n",
              "        buttonEl.style.display =\n",
              "          google.colab.kernel.accessAllowed ? 'block' : 'none';\n",
              "\n",
              "        async function convertToInteractive(key) {\n",
              "          const element = document.querySelector('#df-ba266cad-1c02-4827-b361-052007172ffe');\n",
              "          const dataTable =\n",
              "            await google.colab.kernel.invokeFunction('convertToInteractive',\n",
              "                                                     [key], {});\n",
              "          if (!dataTable) return;\n",
              "\n",
              "          const docLinkHtml = 'Like what you see? Visit the ' +\n",
              "            '<a target=\"_blank\" href=https://colab.research.google.com/notebooks/data_table.ipynb>data table notebook</a>'\n",
              "            + ' to learn more about interactive tables.';\n",
              "          element.innerHTML = '';\n",
              "          dataTable['output_type'] = 'display_data';\n",
              "          await google.colab.output.renderOutput(dataTable, element);\n",
              "          const docLink = document.createElement('div');\n",
              "          docLink.innerHTML = docLinkHtml;\n",
              "          element.appendChild(docLink);\n",
              "        }\n",
              "      </script>\n",
              "    </div>\n",
              "  </div>\n",
              "  "
            ]
          },
          "metadata": {},
          "execution_count": 11
        }
      ]
    },
    {
      "cell_type": "code",
      "metadata": {
        "colab": {
          "base_uri": "https://localhost:8080/",
          "height": 319
        },
        "id": "V-Uc7nbziyXp",
        "outputId": "ec4f2dc8-6e99-4c2b-9ba4-4f67f2e5f6f3"
      },
      "source": [
        "fname = 'eng-com_web-public_2018_1M/eng-com_web-public_2018_1M-sentences.txt'\n",
        "df_en = pd.read_csv(fname, sep='\\t', header=None, quoting=csv.QUOTE_NONE)\n",
        "df_en.columns = ['idx', 'text']\n",
        "df_en.sample(5)"
      ],
      "execution_count": 62,
      "outputs": [
        {
          "output_type": "execute_result",
          "data": {
            "text/plain": [
              "           idx  \\\n",
              "295614  295615   \n",
              "743009  743010   \n",
              "559725  559726   \n",
              "432906  432907   \n",
              "88942    88943   \n",
              "\n",
              "                                                                                                                                                                                                     text  \n",
              "295614                                                                                                                                        I added 2/3 cups of sugar instead of 1/3cup to your recipe.  \n",
              "743009                                                                                                                                           The hard part is what it may do to my cruelty to myself.  \n",
              "559725  Odds are good that visitors to the site from March 2016 through early this month were compromised, with their credit card data flowing to a Russian language Internet service provider in Belize.  \n",
              "432906                                                                                                                                                                 It ran in our family, so to speak.  \n",
              "88942                              A tiny client runs on your machine and automatically keeps your important files backed up to Carbonite’s remote servers, which provide an unlimited amount of storage.  "
            ],
            "text/html": [
              "\n",
              "  <div id=\"df-fa741596-1a2c-48f1-8f5c-f6a83f4eec14\">\n",
              "    <div class=\"colab-df-container\">\n",
              "      <div>\n",
              "<style scoped>\n",
              "    .dataframe tbody tr th:only-of-type {\n",
              "        vertical-align: middle;\n",
              "    }\n",
              "\n",
              "    .dataframe tbody tr th {\n",
              "        vertical-align: top;\n",
              "    }\n",
              "\n",
              "    .dataframe thead th {\n",
              "        text-align: right;\n",
              "    }\n",
              "</style>\n",
              "<table border=\"1\" class=\"dataframe\">\n",
              "  <thead>\n",
              "    <tr style=\"text-align: right;\">\n",
              "      <th></th>\n",
              "      <th>idx</th>\n",
              "      <th>text</th>\n",
              "    </tr>\n",
              "  </thead>\n",
              "  <tbody>\n",
              "    <tr>\n",
              "      <th>295614</th>\n",
              "      <td>295615</td>\n",
              "      <td>I added 2/3 cups of sugar instead of 1/3cup to your recipe.</td>\n",
              "    </tr>\n",
              "    <tr>\n",
              "      <th>743009</th>\n",
              "      <td>743010</td>\n",
              "      <td>The hard part is what it may do to my cruelty to myself.</td>\n",
              "    </tr>\n",
              "    <tr>\n",
              "      <th>559725</th>\n",
              "      <td>559726</td>\n",
              "      <td>Odds are good that visitors to the site from March 2016 through early this month were compromised, with their credit card data flowing to a Russian language Internet service provider in Belize.</td>\n",
              "    </tr>\n",
              "    <tr>\n",
              "      <th>432906</th>\n",
              "      <td>432907</td>\n",
              "      <td>It ran in our family, so to speak.</td>\n",
              "    </tr>\n",
              "    <tr>\n",
              "      <th>88942</th>\n",
              "      <td>88943</td>\n",
              "      <td>A tiny client runs on your machine and automatically keeps your important files backed up to Carbonite’s remote servers, which provide an unlimited amount of storage.</td>\n",
              "    </tr>\n",
              "  </tbody>\n",
              "</table>\n",
              "</div>\n",
              "      <button class=\"colab-df-convert\" onclick=\"convertToInteractive('df-fa741596-1a2c-48f1-8f5c-f6a83f4eec14')\"\n",
              "              title=\"Convert this dataframe to an interactive table.\"\n",
              "              style=\"display:none;\">\n",
              "        \n",
              "  <svg xmlns=\"http://www.w3.org/2000/svg\" height=\"24px\"viewBox=\"0 0 24 24\"\n",
              "       width=\"24px\">\n",
              "    <path d=\"M0 0h24v24H0V0z\" fill=\"none\"/>\n",
              "    <path d=\"M18.56 5.44l.94 2.06.94-2.06 2.06-.94-2.06-.94-.94-2.06-.94 2.06-2.06.94zm-11 1L8.5 8.5l.94-2.06 2.06-.94-2.06-.94L8.5 2.5l-.94 2.06-2.06.94zm10 10l.94 2.06.94-2.06 2.06-.94-2.06-.94-.94-2.06-.94 2.06-2.06.94z\"/><path d=\"M17.41 7.96l-1.37-1.37c-.4-.4-.92-.59-1.43-.59-.52 0-1.04.2-1.43.59L10.3 9.45l-7.72 7.72c-.78.78-.78 2.05 0 2.83L4 21.41c.39.39.9.59 1.41.59.51 0 1.02-.2 1.41-.59l7.78-7.78 2.81-2.81c.8-.78.8-2.07 0-2.86zM5.41 20L4 18.59l7.72-7.72 1.47 1.35L5.41 20z\"/>\n",
              "  </svg>\n",
              "      </button>\n",
              "      \n",
              "  <style>\n",
              "    .colab-df-container {\n",
              "      display:flex;\n",
              "      flex-wrap:wrap;\n",
              "      gap: 12px;\n",
              "    }\n",
              "\n",
              "    .colab-df-convert {\n",
              "      background-color: #E8F0FE;\n",
              "      border: none;\n",
              "      border-radius: 50%;\n",
              "      cursor: pointer;\n",
              "      display: none;\n",
              "      fill: #1967D2;\n",
              "      height: 32px;\n",
              "      padding: 0 0 0 0;\n",
              "      width: 32px;\n",
              "    }\n",
              "\n",
              "    .colab-df-convert:hover {\n",
              "      background-color: #E2EBFA;\n",
              "      box-shadow: 0px 1px 2px rgba(60, 64, 67, 0.3), 0px 1px 3px 1px rgba(60, 64, 67, 0.15);\n",
              "      fill: #174EA6;\n",
              "    }\n",
              "\n",
              "    [theme=dark] .colab-df-convert {\n",
              "      background-color: #3B4455;\n",
              "      fill: #D2E3FC;\n",
              "    }\n",
              "\n",
              "    [theme=dark] .colab-df-convert:hover {\n",
              "      background-color: #434B5C;\n",
              "      box-shadow: 0px 1px 3px 1px rgba(0, 0, 0, 0.15);\n",
              "      filter: drop-shadow(0px 1px 2px rgba(0, 0, 0, 0.3));\n",
              "      fill: #FFFFFF;\n",
              "    }\n",
              "  </style>\n",
              "\n",
              "      <script>\n",
              "        const buttonEl =\n",
              "          document.querySelector('#df-fa741596-1a2c-48f1-8f5c-f6a83f4eec14 button.colab-df-convert');\n",
              "        buttonEl.style.display =\n",
              "          google.colab.kernel.accessAllowed ? 'block' : 'none';\n",
              "\n",
              "        async function convertToInteractive(key) {\n",
              "          const element = document.querySelector('#df-fa741596-1a2c-48f1-8f5c-f6a83f4eec14');\n",
              "          const dataTable =\n",
              "            await google.colab.kernel.invokeFunction('convertToInteractive',\n",
              "                                                     [key], {});\n",
              "          if (!dataTable) return;\n",
              "\n",
              "          const docLinkHtml = 'Like what you see? Visit the ' +\n",
              "            '<a target=\"_blank\" href=https://colab.research.google.com/notebooks/data_table.ipynb>data table notebook</a>'\n",
              "            + ' to learn more about interactive tables.';\n",
              "          element.innerHTML = '';\n",
              "          dataTable['output_type'] = 'display_data';\n",
              "          await google.colab.output.renderOutput(dataTable, element);\n",
              "          const docLink = document.createElement('div');\n",
              "          docLink.innerHTML = docLinkHtml;\n",
              "          element.appendChild(docLink);\n",
              "        }\n",
              "      </script>\n",
              "    </div>\n",
              "  </div>\n",
              "  "
            ]
          },
          "metadata": {},
          "execution_count": 62
        }
      ]
    },
    {
      "cell_type": "code",
      "source": [
        "fname = '/content/corpus_Python-JPN/Corpus-conala/conala_orig.tsv'\n",
        "df_py = pd.read_csv(fname, sep='\\t', header=None, quoting=csv.QUOTE_NONE)\n",
        "df_py.columns = ['text', 'trans']\n",
        "df_py = df_py.rename_axis('idx').reset_index()\n",
        "df_py = df_py[['idx', 'text']]\n",
        "df_py.sample(5)"
      ],
      "metadata": {
        "colab": {
          "base_uri": "https://localhost:8080/",
          "height": 267
        },
        "id": "yg0si8n7kGAT",
        "outputId": "dae37f33-44ba-4697-e97e-455cc79662da"
      },
      "execution_count": 53,
      "outputs": [
        {
          "output_type": "execute_result",
          "data": {
            "text/plain": [
              "       idx  \\\n",
              "1968  1968   \n",
              "1651  1651   \n",
              "1503  1503   \n",
              "1914  1914   \n",
              "667    667   \n",
              "\n",
              "                                                                                        text  \n",
              "1968  dict ( ( k , v * dict2 [ k ] ) for k , v in list ( dict1 . items ( ) ) if k in dict2 )  \n",
              "1651                                                    df = df . drop ( 'column_name' , 1 )  \n",
              "1503                    canvas . create_text ( x , y , font = ( 'Purisa' , 12 ) , text = k )  \n",
              "1914                                  x [ ( np . arange ( x . shape [ 0 ] ) != 1 ) , : , : ]  \n",
              "667           url ( '^$' , TemplateView . as_view ( template_name = 'your_template.html' ) )  "
            ],
            "text/html": [
              "\n",
              "  <div id=\"df-9cd8f5bb-800d-4c60-8966-78176daf57f3\">\n",
              "    <div class=\"colab-df-container\">\n",
              "      <div>\n",
              "<style scoped>\n",
              "    .dataframe tbody tr th:only-of-type {\n",
              "        vertical-align: middle;\n",
              "    }\n",
              "\n",
              "    .dataframe tbody tr th {\n",
              "        vertical-align: top;\n",
              "    }\n",
              "\n",
              "    .dataframe thead th {\n",
              "        text-align: right;\n",
              "    }\n",
              "</style>\n",
              "<table border=\"1\" class=\"dataframe\">\n",
              "  <thead>\n",
              "    <tr style=\"text-align: right;\">\n",
              "      <th></th>\n",
              "      <th>idx</th>\n",
              "      <th>text</th>\n",
              "    </tr>\n",
              "  </thead>\n",
              "  <tbody>\n",
              "    <tr>\n",
              "      <th>1968</th>\n",
              "      <td>1968</td>\n",
              "      <td>dict ( ( k , v * dict2 [ k ] ) for k , v in list ( dict1 . items ( ) ) if k in dict2 )</td>\n",
              "    </tr>\n",
              "    <tr>\n",
              "      <th>1651</th>\n",
              "      <td>1651</td>\n",
              "      <td>df = df . drop ( 'column_name' , 1 )</td>\n",
              "    </tr>\n",
              "    <tr>\n",
              "      <th>1503</th>\n",
              "      <td>1503</td>\n",
              "      <td>canvas . create_text ( x , y , font = ( 'Purisa' , 12 ) , text = k )</td>\n",
              "    </tr>\n",
              "    <tr>\n",
              "      <th>1914</th>\n",
              "      <td>1914</td>\n",
              "      <td>x [ ( np . arange ( x . shape [ 0 ] ) != 1 ) , : , : ]</td>\n",
              "    </tr>\n",
              "    <tr>\n",
              "      <th>667</th>\n",
              "      <td>667</td>\n",
              "      <td>url ( '^$' , TemplateView . as_view ( template_name = 'your_template.html' ) )</td>\n",
              "    </tr>\n",
              "  </tbody>\n",
              "</table>\n",
              "</div>\n",
              "      <button class=\"colab-df-convert\" onclick=\"convertToInteractive('df-9cd8f5bb-800d-4c60-8966-78176daf57f3')\"\n",
              "              title=\"Convert this dataframe to an interactive table.\"\n",
              "              style=\"display:none;\">\n",
              "        \n",
              "  <svg xmlns=\"http://www.w3.org/2000/svg\" height=\"24px\"viewBox=\"0 0 24 24\"\n",
              "       width=\"24px\">\n",
              "    <path d=\"M0 0h24v24H0V0z\" fill=\"none\"/>\n",
              "    <path d=\"M18.56 5.44l.94 2.06.94-2.06 2.06-.94-2.06-.94-.94-2.06-.94 2.06-2.06.94zm-11 1L8.5 8.5l.94-2.06 2.06-.94-2.06-.94L8.5 2.5l-.94 2.06-2.06.94zm10 10l.94 2.06.94-2.06 2.06-.94-2.06-.94-.94-2.06-.94 2.06-2.06.94z\"/><path d=\"M17.41 7.96l-1.37-1.37c-.4-.4-.92-.59-1.43-.59-.52 0-1.04.2-1.43.59L10.3 9.45l-7.72 7.72c-.78.78-.78 2.05 0 2.83L4 21.41c.39.39.9.59 1.41.59.51 0 1.02-.2 1.41-.59l7.78-7.78 2.81-2.81c.8-.78.8-2.07 0-2.86zM5.41 20L4 18.59l7.72-7.72 1.47 1.35L5.41 20z\"/>\n",
              "  </svg>\n",
              "      </button>\n",
              "      \n",
              "  <style>\n",
              "    .colab-df-container {\n",
              "      display:flex;\n",
              "      flex-wrap:wrap;\n",
              "      gap: 12px;\n",
              "    }\n",
              "\n",
              "    .colab-df-convert {\n",
              "      background-color: #E8F0FE;\n",
              "      border: none;\n",
              "      border-radius: 50%;\n",
              "      cursor: pointer;\n",
              "      display: none;\n",
              "      fill: #1967D2;\n",
              "      height: 32px;\n",
              "      padding: 0 0 0 0;\n",
              "      width: 32px;\n",
              "    }\n",
              "\n",
              "    .colab-df-convert:hover {\n",
              "      background-color: #E2EBFA;\n",
              "      box-shadow: 0px 1px 2px rgba(60, 64, 67, 0.3), 0px 1px 3px 1px rgba(60, 64, 67, 0.15);\n",
              "      fill: #174EA6;\n",
              "    }\n",
              "\n",
              "    [theme=dark] .colab-df-convert {\n",
              "      background-color: #3B4455;\n",
              "      fill: #D2E3FC;\n",
              "    }\n",
              "\n",
              "    [theme=dark] .colab-df-convert:hover {\n",
              "      background-color: #434B5C;\n",
              "      box-shadow: 0px 1px 3px 1px rgba(0, 0, 0, 0.15);\n",
              "      filter: drop-shadow(0px 1px 2px rgba(0, 0, 0, 0.3));\n",
              "      fill: #FFFFFF;\n",
              "    }\n",
              "  </style>\n",
              "\n",
              "      <script>\n",
              "        const buttonEl =\n",
              "          document.querySelector('#df-9cd8f5bb-800d-4c60-8966-78176daf57f3 button.colab-df-convert');\n",
              "        buttonEl.style.display =\n",
              "          google.colab.kernel.accessAllowed ? 'block' : 'none';\n",
              "\n",
              "        async function convertToInteractive(key) {\n",
              "          const element = document.querySelector('#df-9cd8f5bb-800d-4c60-8966-78176daf57f3');\n",
              "          const dataTable =\n",
              "            await google.colab.kernel.invokeFunction('convertToInteractive',\n",
              "                                                     [key], {});\n",
              "          if (!dataTable) return;\n",
              "\n",
              "          const docLinkHtml = 'Like what you see? Visit the ' +\n",
              "            '<a target=\"_blank\" href=https://colab.research.google.com/notebooks/data_table.ipynb>data table notebook</a>'\n",
              "            + ' to learn more about interactive tables.';\n",
              "          element.innerHTML = '';\n",
              "          dataTable['output_type'] = 'display_data';\n",
              "          await google.colab.output.renderOutput(dataTable, element);\n",
              "          const docLink = document.createElement('div');\n",
              "          docLink.innerHTML = docLinkHtml;\n",
              "          element.appendChild(docLink);\n",
              "        }\n",
              "      </script>\n",
              "    </div>\n",
              "  </div>\n",
              "  "
            ]
          },
          "metadata": {},
          "execution_count": 53
        }
      ]
    },
    {
      "cell_type": "markdown",
      "metadata": {
        "id": "zhkWqfdNjNww"
      },
      "source": [
        "Count the tokens that the current model uses for representing the sentences. "
      ]
    },
    {
      "cell_type": "code",
      "metadata": {
        "colab": {
          "base_uri": "https://localhost:8080/",
          "height": 77,
          "referenced_widgets": [
            "9ed02a70d38f4b96b7b6f97f5dfb9c3a",
            "f01ab037fa6f4706aa56d74ec3122aac",
            "dce44dbdc25347feabc77079276ffeb3",
            "ea3d5ead42ab4a91b9355c2da12c7fe4",
            "19ef10349d15492e81be7f7c23ddfc4d",
            "cdbc6121161c46818d40310f8bfe0635",
            "e0c2ed1064854a91bd0505dbba75b609",
            "38750a4329e7413a8ead5fc2db416ffb",
            "9b83ce960b26444aa0550a72672c4624",
            "70fc3cd43fd94be990ae088df63f26c2",
            "608aef16b9224361a0a6e7c96b9ccf0d"
          ]
        },
        "id": "lmzSON9iM_yb",
        "outputId": "b697f34a-618a-4693-8593-7e24f0c70fc7"
      },
      "source": [
        "from collections import Counter\n",
        "from tqdm.auto import tqdm, trange\n",
        "\n",
        "cnt_ja = Counter()\n",
        "for text in tqdm(df_ja.text):\n",
        "    cnt_ja.update(tokenizer.encode(text))"
      ],
      "execution_count": 59,
      "outputs": [
        {
          "output_type": "display_data",
          "data": {
            "text/plain": [
              "  0%|          | 0/1000000 [00:00<?, ?it/s]"
            ],
            "application/vnd.jupyter.widget-view+json": {
              "version_major": 2,
              "version_minor": 0,
              "model_id": "9ed02a70d38f4b96b7b6f97f5dfb9c3a"
            }
          },
          "metadata": {}
        }
      ]
    },
    {
      "cell_type": "code",
      "source": [
        "cnt_en = Counter()\n",
        "for text in tqdm(df_en.text):\n",
        "    cnt_en.update(tokenizer.encode(text))"
      ],
      "metadata": {
        "colab": {
          "base_uri": "https://localhost:8080/",
          "height": 77,
          "referenced_widgets": [
            "438a84de211a472680b21d4e73d037aa",
            "8974fbd5a7a34ce0bcaa2390891b33d4",
            "5a0265dd40224db0b83bef52a78ac3ea",
            "0810483fffa540d7b4dc213fe9e3d001",
            "12822bc6b3e2419c920d5c4aef0cc21e",
            "62931b7eb0234051851030d6afcbc661",
            "c2ed700faeae46c08bcb8c0a5a564f7e",
            "bad7a246ecb84c8dbb31cb91116ac9c7",
            "f1af8d2820234b7da50aaffb9c8a3d1f",
            "8885cf892d3640a7ad1998d4a0776833",
            "9a8d4425a65f4dbeb56b01090c58f99c"
          ]
        },
        "id": "1WO42BYSoxaH",
        "outputId": "8714ab7e-74b8-4670-9706-8db44db028b5"
      },
      "execution_count": 63,
      "outputs": [
        {
          "output_type": "display_data",
          "data": {
            "text/plain": [
              "  0%|          | 0/1000000 [00:00<?, ?it/s]"
            ],
            "application/vnd.jupyter.widget-view+json": {
              "version_major": 2,
              "version_minor": 0,
              "model_id": "438a84de211a472680b21d4e73d037aa"
            }
          },
          "metadata": {}
        }
      ]
    },
    {
      "cell_type": "code",
      "source": [
        "cnt_py = Counter()\n",
        "for text in tqdm(df_py.text):\n",
        "    cnt_py.update(tokenizer.encode(text))"
      ],
      "metadata": {
        "id": "aKXrEFpwo0e1"
      },
      "execution_count": null,
      "outputs": []
    },
    {
      "cell_type": "markdown",
      "metadata": {
        "id": "sTzND5F1OkEY"
      },
      "source": [
        "The tokens that are ever used with Russian are 23% of the whole vocabulary. With English, it is 27%.\n",
        "\n",
        "Surprisingly, there is more than 50% overlap between the vocabularies. Perhaps, this is because in Russian texts there are occasionally English words or other words with latin alphabet. "
      ]
    },
    {
      "cell_type": "code",
      "metadata": {
        "colab": {
          "base_uri": "https://localhost:8080/",
          "height": 274
        },
        "id": "M07fj3z0NWiy",
        "outputId": "5f81bf15-0d66-4ac5-d951-6d0db5cd03d2"
      },
      "source": [
        "print(len(cnt_ja), len(cnt_ja)/tokenizer.vocab_size)\n",
        "print(len(cnt_en), len(cnt_en)/tokenizer.vocab_size)\n",
        "print(len(cnt_py), len(cnt_py)/tokenizer.vocab_size)\n",
        "common = len(set(cnt_ja.keys()).intersection(set(cnt_en.keys()))) #日本語\n",
        "commonn = len(set(cnt_py.keys()).intersection(set(cnt_en.keys()))) #Pythonコード\n",
        "print(common, common / len(cnt_ja))\n",
        "print(commonn, commonn / len(cnt_py))"
      ],
      "execution_count": 57,
      "outputs": [
        {
          "output_type": "stream",
          "name": "stdout",
          "text": [
            "80189 0.3206277489004398\n",
            "1640 0.006557377049180328\n"
          ]
        },
        {
          "output_type": "error",
          "ename": "NameError",
          "evalue": "ignored",
          "traceback": [
            "\u001b[0;31m---------------------------------------------------------------------------\u001b[0m",
            "\u001b[0;31mNameError\u001b[0m                                 Traceback (most recent call last)",
            "\u001b[0;32m<ipython-input-57-ac6482ce1b6a>\u001b[0m in \u001b[0;36m<module>\u001b[0;34m()\u001b[0m\n\u001b[1;32m      1\u001b[0m \u001b[0mprint\u001b[0m\u001b[0;34m(\u001b[0m\u001b[0mlen\u001b[0m\u001b[0;34m(\u001b[0m\u001b[0mcnt_ja\u001b[0m\u001b[0;34m)\u001b[0m\u001b[0;34m,\u001b[0m \u001b[0mlen\u001b[0m\u001b[0;34m(\u001b[0m\u001b[0mcnt_ja\u001b[0m\u001b[0;34m)\u001b[0m\u001b[0;34m/\u001b[0m\u001b[0mtokenizer\u001b[0m\u001b[0;34m.\u001b[0m\u001b[0mvocab_size\u001b[0m\u001b[0;34m)\u001b[0m\u001b[0;34m\u001b[0m\u001b[0;34m\u001b[0m\u001b[0m\n\u001b[1;32m      2\u001b[0m \u001b[0mprint\u001b[0m\u001b[0;34m(\u001b[0m\u001b[0mlen\u001b[0m\u001b[0;34m(\u001b[0m\u001b[0mcnt_en\u001b[0m\u001b[0;34m)\u001b[0m\u001b[0;34m,\u001b[0m \u001b[0mlen\u001b[0m\u001b[0;34m(\u001b[0m\u001b[0mcnt_en\u001b[0m\u001b[0;34m)\u001b[0m\u001b[0;34m/\u001b[0m\u001b[0mtokenizer\u001b[0m\u001b[0;34m.\u001b[0m\u001b[0mvocab_size\u001b[0m\u001b[0;34m)\u001b[0m\u001b[0;34m\u001b[0m\u001b[0;34m\u001b[0m\u001b[0m\n\u001b[0;32m----> 3\u001b[0;31m \u001b[0mprint\u001b[0m\u001b[0;34m(\u001b[0m\u001b[0mlen\u001b[0m\u001b[0;34m(\u001b[0m\u001b[0mcnt_py\u001b[0m\u001b[0;34m)\u001b[0m\u001b[0;34m,\u001b[0m \u001b[0mlen\u001b[0m\u001b[0;34m(\u001b[0m\u001b[0mcnt_py\u001b[0m\u001b[0;34m)\u001b[0m\u001b[0;34m/\u001b[0m\u001b[0mtokenizer\u001b[0m\u001b[0;34m.\u001b[0m\u001b[0mvocab_size\u001b[0m\u001b[0;34m)\u001b[0m\u001b[0;34m\u001b[0m\u001b[0;34m\u001b[0m\u001b[0m\n\u001b[0m\u001b[1;32m      4\u001b[0m \u001b[0mcommon\u001b[0m \u001b[0;34m=\u001b[0m \u001b[0mlen\u001b[0m\u001b[0;34m(\u001b[0m\u001b[0mset\u001b[0m\u001b[0;34m(\u001b[0m\u001b[0mcnt_ja\u001b[0m\u001b[0;34m.\u001b[0m\u001b[0mkeys\u001b[0m\u001b[0;34m(\u001b[0m\u001b[0;34m)\u001b[0m\u001b[0;34m)\u001b[0m\u001b[0;34m.\u001b[0m\u001b[0mintersection\u001b[0m\u001b[0;34m(\u001b[0m\u001b[0mset\u001b[0m\u001b[0;34m(\u001b[0m\u001b[0mcnt_en\u001b[0m\u001b[0;34m.\u001b[0m\u001b[0mkeys\u001b[0m\u001b[0;34m(\u001b[0m\u001b[0;34m)\u001b[0m\u001b[0;34m)\u001b[0m\u001b[0;34m)\u001b[0m\u001b[0;34m)\u001b[0m \u001b[0;31m#日本語\u001b[0m\u001b[0;34m\u001b[0m\u001b[0;34m\u001b[0m\u001b[0m\n\u001b[1;32m      5\u001b[0m \u001b[0mcommonn\u001b[0m \u001b[0;34m=\u001b[0m \u001b[0mlen\u001b[0m\u001b[0;34m(\u001b[0m\u001b[0mset\u001b[0m\u001b[0;34m(\u001b[0m\u001b[0mcnt_py\u001b[0m\u001b[0;34m.\u001b[0m\u001b[0mkeys\u001b[0m\u001b[0;34m(\u001b[0m\u001b[0;34m)\u001b[0m\u001b[0;34m)\u001b[0m\u001b[0;34m.\u001b[0m\u001b[0mintersection\u001b[0m\u001b[0;34m(\u001b[0m\u001b[0mset\u001b[0m\u001b[0;34m(\u001b[0m\u001b[0mcnt_en\u001b[0m\u001b[0;34m.\u001b[0m\u001b[0mkeys\u001b[0m\u001b[0;34m(\u001b[0m\u001b[0;34m)\u001b[0m\u001b[0;34m)\u001b[0m\u001b[0;34m)\u001b[0m\u001b[0;34m)\u001b[0m \u001b[0;31m#Pythonコード\u001b[0m\u001b[0;34m\u001b[0m\u001b[0;34m\u001b[0m\u001b[0m\n",
            "\u001b[0;31mNameError\u001b[0m: name 'cnt_py' is not defined"
          ]
        }
      ]
    },
    {
      "cell_type": "markdown",
      "metadata": {
        "id": "2ULUmyllmNA0"
      },
      "source": [
        "For both English and Russian, 10K tokens cover about 95% of the vocabulary, and 20K - about 99%. "
      ]
    },
    {
      "cell_type": "code",
      "metadata": {
        "colab": {
          "base_uri": "https://localhost:8080/"
        },
        "id": "kNudkAe5NbKT",
        "outputId": "01cb32d0-386c-4155-8aad-0c22b941d83e"
      },
      "source": [
        "print('ja')\n",
        "for top in 10_000, 20_000, 30_000:\n",
        "    print(top, sum(v for k, v in cnt_ja.most_common(top)) / sum(cnt_ja.values()))\n",
        "print('en')\n",
        "for top in 10_000, 20_000, 30_000:\n",
        "    print(top, sum(v for k, v in cnt_en.most_common(top)) / sum(cnt_en.values()))"
      ],
      "execution_count": 16,
      "outputs": [
        {
          "output_type": "stream",
          "name": "stdout",
          "text": [
            "ja\n",
            "10000 0.952994509489272\n",
            "20000 0.9886598605517815\n",
            "30000 0.9945652171784659\n",
            "en\n",
            "10000 0.9531899764307693\n",
            "20000 0.9840809828270257\n",
            "30000 0.9937869259525808\n"
          ]
        }
      ]
    },
    {
      "cell_type": "markdown",
      "metadata": {
        "id": "0N_D37J3lbqr"
      },
      "source": [
        "Remember the old vocabulary, because we are going to replace it soon!"
      ]
    },
    {
      "cell_type": "code",
      "metadata": {
        "id": "9RzGibfZQbgP"
      },
      "source": [
        "old_voc = tokenizer.get_vocab()\n",
        "old_inv_voc = {v: k for k, v in old_voc.items()}"
      ],
      "execution_count": 17,
      "outputs": []
    },
    {
      "cell_type": "markdown",
      "metadata": {
        "id": "rKwEQtbRljiC"
      },
      "source": [
        "Look at the most used tokens. They are mostly service words or prefixes."
      ]
    },
    {
      "cell_type": "code",
      "metadata": {
        "colab": {
          "base_uri": "https://localhost:8080/"
        },
        "id": "Y8oL4rL8QZ8f",
        "outputId": "8331e838-7bc3-4071-e0ee-eaf486ea1888"
      },
      "source": [
        "print(tokenizer.convert_ids_to_tokens([k for k, v in cnt_ja.most_common(30)]))\n",
        "print(tokenizer.convert_ids_to_tokens([k for k, v in cnt_en.most_common(30)]))"
      ],
      "execution_count": 18,
      "outputs": [
        {
          "output_type": "stream",
          "name": "stdout",
          "text": [
            "['▁', '、', '</s>', '。', 'の', 'は', 'が', 'を', 'に', 'と', '・', ')', '(', 'で', '」', '「', 'した', '年', 'する', 'し', 'から', 'も', '』', 'や', 'である', 'された', 'として', '月', 'では', '▁archive']\n",
            "['▁', '</s>', '.', '▁the', ',', 's', '▁to', '▁and', 'a', '▁of', '▁in', '▁is', '▁I', '’', '▁that', 'ed', '▁for', '-', 'ing', \"'\", '▁you', '▁it', '▁with', '▁on', 'ly', 'y', '▁be', '▁The', '▁as', '▁are']\n"
          ]
        }
      ]
    },
    {
      "cell_type": "markdown",
      "metadata": {
        "id": "AwwPWiO3Po1x"
      },
      "source": [
        "We try the following composition of vocabulary:\n",
        "* 1K of top tokens of the original tokenizer (just in case)\n",
        "* Top 10K of the English vocabulary\n",
        "* Top 20K of the Russian vocabulary (or more, to make the total number of tokens 30K)\n",
        "* 100 special tokens that T5 uses\n"
      ]
    },
    {
      "cell_type": "code",
      "metadata": {
        "colab": {
          "base_uri": "https://localhost:8080/"
        },
        "id": "J-aSMIB1Pxvh",
        "outputId": "f6f28c70-7225-4c33-df4a-2dee036a374d"
      },
      "source": [
        "new_tokens = set(range(1000))\n",
        "for i, (k, v) in enumerate(cnt_en.most_common(10_000)):\n",
        "    if k not in new_tokens:\n",
        "        new_tokens.add(k)\n",
        "for i, (k, v) in enumerate(cnt_ja.most_common(25_000)):\n",
        "    if len(new_tokens) == 29_900:\n",
        "        print(i, 'Japanese tokens are included')\n",
        "        break\n",
        "    if k not in new_tokens:\n",
        "        new_tokens.add(k)\n",
        "\n",
        "for t in range(tokenizer.vocab_size - 100, tokenizer.vocab_size):\n",
        "    new_tokens.add(t)\n",
        "\n",
        "print(len(new_tokens))\n",
        "kept_ids = sorted(new_tokens)"
      ],
      "execution_count": 19,
      "outputs": [
        {
          "output_type": "stream",
          "name": "stdout",
          "text": [
            "21432 Japanese tokens are included\n",
            "30000\n"
          ]
        }
      ]
    },
    {
      "cell_type": "markdown",
      "metadata": {
        "id": "BLAFLhrDoD4U"
      },
      "source": [
        "The new vocabulary is only 12% of the original one. "
      ]
    },
    {
      "cell_type": "code",
      "metadata": {
        "colab": {
          "base_uri": "https://localhost:8080/"
        },
        "id": "q21bC7tpTyuW",
        "outputId": "7b12b005-aa71-4471-a4b3-91171bf8f120"
      },
      "source": [
        "len(kept_ids) / tokenizer.vocab_size"
      ],
      "execution_count": 20,
      "outputs": [
        {
          "output_type": "execute_result",
          "data": {
            "text/plain": [
              "0.11995201919232307"
            ]
          },
          "metadata": {},
          "execution_count": 20
        }
      ]
    },
    {
      "cell_type": "markdown",
      "metadata": {
        "id": "s9ZrtTdcRfN_"
      },
      "source": [
        "The plot shows that the tokens that were more frequent in the original vocabulary more frequently get into the new vocabulary (so that the curve bends upward). "
      ]
    },
    {
      "cell_type": "code",
      "metadata": {
        "colab": {
          "base_uri": "https://localhost:8080/",
          "height": 279
        },
        "id": "IAPmeDZmRDIf",
        "outputId": "c4eecc94-fb4b-4daf-a225-91435c42df4d"
      },
      "source": [
        "import matplotlib.pyplot as plt\n",
        "plt.plot(kept_ids)\n",
        "plt.xlabel('new id of token')\n",
        "plt.ylabel('old id of token');"
      ],
      "execution_count": 21,
      "outputs": [
        {
          "output_type": "display_data",
          "data": {
            "text/plain": [
              "<Figure size 432x288 with 1 Axes>"
            ],
            "image/png": "[encoded data removed]"
          },
          "metadata": {
            "needs_background": "light"
          }
        }
      ]
    },
    {
      "cell_type": "markdown",
      "metadata": {
        "id": "IaaCyAPlomLt"
      },
      "source": [
        "### Update the embeddings"
      ]
    },
    {
      "cell_type": "code",
      "metadata": {
        "id": "k-BNn3R6R0lY"
      },
      "source": [
        "import torch"
      ],
      "execution_count": 22,
      "outputs": []
    },
    {
      "cell_type": "code",
      "metadata": {
        "id": "P5033SckRzzo"
      },
      "source": [
        "new_size = len(kept_ids)\n",
        "new_emb = torch.nn.Embedding(new_size, model.shared.embedding_dim)\n",
        "new_head = torch.nn.Linear(in_features=model.lm_head.in_features, out_features=new_size, bias=False)"
      ],
      "execution_count": 23,
      "outputs": []
    },
    {
      "cell_type": "code",
      "metadata": {
        "id": "CjD6LS_9fe_M"
      },
      "source": [
        "for new_id, old_id in enumerate(kept_ids):\n",
        "    new_emb.weight.data[new_id] = model.shared.weight.data[old_id]\n",
        "    new_head.weight.data[new_id] = model.lm_head.weight.data[old_id]"
      ],
      "execution_count": 24,
      "outputs": []
    },
    {
      "cell_type": "code",
      "metadata": {
        "id": "vv7IuBORRseE"
      },
      "source": [
        "model.shared.weight = new_emb.weight\n",
        "model.lm_head.weight = new_head.weight"
      ],
      "execution_count": 25,
      "outputs": []
    },
    {
      "cell_type": "markdown",
      "metadata": {
        "id": "QcIDtmymo56s"
      },
      "source": [
        "The new model has 244M parameters - 42% of the original size. "
      ]
    },
    {
      "cell_type": "code",
      "metadata": {
        "colab": {
          "base_uri": "https://localhost:8080/"
        },
        "id": "g_aPBQ20kvCB",
        "outputId": "05c42b60-f773-4923-9f2a-a8606db9a00e"
      },
      "source": [
        "print(msize(model), msize(model) / original_size)"
      ],
      "execution_count": 26,
      "outputs": [
        {
          "output_type": "stream",
          "name": "stdout",
          "text": [
            "244309248 0.4194861110195362\n"
          ]
        }
      ]
    },
    {
      "cell_type": "markdown",
      "metadata": {
        "id": "vdKmFJY_k7xZ"
      },
      "source": [
        "### Update the tokenizer"
      ]
    },
    {
      "cell_type": "markdown",
      "metadata": {
        "id": "-X25sG0jmc83"
      },
      "source": [
        "T5 uses Sentencepiece tokenizer, which is implemented in C and is opaque to Python. \n",
        "\n",
        "Fortunately, we can download its model and deploy it into Python using its Protobuf representation. \n",
        "\n",
        "https://github.com/google/sentencepiece/issues/121"
      ]
    },
    {
      "cell_type": "code",
      "metadata": {
        "id": "OpII_eX3mY80",
        "colab": {
          "base_uri": "https://localhost:8080/"
        },
        "outputId": "5eb48376-794b-4230-a025-286b023a8e66"
      },
      "source": [
        "!wget https://raw.githubusercontent.com/google/sentencepiece/master/src/sentencepiece_model.proto"
      ],
      "execution_count": 27,
      "outputs": [
        {
          "output_type": "stream",
          "name": "stdout",
          "text": [
            "--2022-04-06 06:24:37--  https://raw.githubusercontent.com/google/sentencepiece/master/src/sentencepiece_model.proto\n",
            "Resolving raw.githubusercontent.com (raw.githubusercontent.com)... 185.199.108.133, 185.199.109.133, 185.199.110.133, ...\n",
            "Connecting to raw.githubusercontent.com (raw.githubusercontent.com)|185.199.108.133|:443... connected.\n",
            "HTTP request sent, awaiting response... 200 OK\n",
            "Length: 12872 (13K) [text/plain]\n",
            "Saving to: ‘sentencepiece_model.proto.1’\n",
            "\n",
            "sentencepiece_model 100%[===================>]  12.57K  --.-KB/s    in 0.001s  \n",
            "\n",
            "2022-04-06 06:24:37 (16.1 MB/s) - ‘sentencepiece_model.proto.1’ saved [12872/12872]\n",
            "\n"
          ]
        }
      ]
    },
    {
      "cell_type": "markdown",
      "metadata": {
        "id": "SGb1DiYmpnkr"
      },
      "source": [
        "We compile the protobuf description of the sentencepiece model in order to be able to modify it. "
      ]
    },
    {
      "cell_type": "code",
      "metadata": {
        "id": "I6B0MA5DmaZM"
      },
      "source": [
        "! protoc --python_out=. sentencepiece_model.proto"
      ],
      "execution_count": 28,
      "outputs": []
    },
    {
      "cell_type": "markdown",
      "metadata": {
        "id": "nJwHRRzbngJY"
      },
      "source": [
        "Now we can serialize the model used by the current tokenizer and open it as a protobuf class. "
      ]
    },
    {
      "cell_type": "code",
      "metadata": {
        "colab": {
          "base_uri": "https://localhost:8080/",
          "height": 129,
          "referenced_widgets": [
            "a2eeef47b35f4489ac1f07f3ec606991",
            "df9004b8eda0429aa4130ef807ea5d44",
            "3d5c040a07df4895804b2371880f5d65",
            "966a9cafd6934ced9ccc788dc2973c30",
            "7b013082417e4dc8a86a0c5ce8025a58",
            "7a87a3a96c90423d86b74346b75dac05",
            "5dacf05c62374433bbffedfe165967fb",
            "41d6870c145a4f2d8fe786ec5066d500",
            "2398007d6c5a41c2a733ae5e87c87985",
            "d0bf84686a2042d28e23b989a5df4b23",
            "3132615aed494d048e13b74f3124955e"
          ]
        },
        "id": "MdQM0L3lnybA",
        "outputId": "e12687ce-897b-4df4-f124-58186bbde8cd"
      },
      "source": [
        "import sentencepiece_model_pb2 as spmp\n",
        "smp = tokenizer.sp_model.serialized_model_proto()\n",
        "m = spmp.ModelProto()\n",
        "m.ParseFromString(smp)\n",
        "\n",
        "print('the loaded model has pieces:', len(m.pieces))\n",
        "new_pieces = [m.pieces[idx] for idx in kept_ids]\n",
        "print('the new pieces:', len(new_pieces))\n",
        "\n",
        "# replace the content of the first 30K pieces\n",
        "for i, p in enumerate(new_pieces):\n",
        "    m.pieces[i].piece = p.piece\n",
        "    m.pieces[i].score = p.score\n",
        "    m.pieces[i].type = p.type\n",
        "\n",
        "# drop the remaining pieces\n",
        "n = len(new_pieces)\n",
        "for i in trange(len(m.pieces) - n):\n",
        "    m.pieces.pop(len(m.pieces) - 1)\n",
        "\n",
        "print(len(m.pieces))\n",
        "with open('new_sp.model', 'wb') as f:\n",
        "    f.write(m.SerializeToString())"
      ],
      "execution_count": 29,
      "outputs": [
        {
          "output_type": "stream",
          "name": "stdout",
          "text": [
            "the loaded model has pieces: 250100\n",
            "the new pieces: 30000\n"
          ]
        },
        {
          "output_type": "display_data",
          "data": {
            "text/plain": [
              "  0%|          | 0/220100 [00:00<?, ?it/s]"
            ],
            "application/vnd.jupyter.widget-view+json": {
              "version_major": 2,
              "version_minor": 0,
              "model_id": "a2eeef47b35f4489ac1f07f3ec606991"
            }
          },
          "metadata": {}
        },
        {
          "output_type": "stream",
          "name": "stdout",
          "text": [
            "30000\n"
          ]
        }
      ]
    },
    {
      "cell_type": "code",
      "metadata": {
        "id": "qWeP6N1sry93"
      },
      "source": [
        "new_tokenizer = T5Tokenizer('new_sp.model', extra_ids=0)"
      ],
      "execution_count": 30,
      "outputs": []
    },
    {
      "cell_type": "markdown",
      "metadata": {
        "id": "czfXG1IqsDT4"
      },
      "source": [
        "### Save the model"
      ]
    },
    {
      "cell_type": "code",
      "metadata": {
        "colab": {
          "base_uri": "https://localhost:8080/"
        },
        "id": "oanCNPiIsCdU",
        "outputId": "36ee7127-1cf7-4d02-e88b-3caf940d8f47"
      },
      "source": [
        "model.config.__dict__['vocab_size'] = new_size\n",
        "model.config.__dict__['_name_or_path'] = 'cointegrated/rut5-base'\n",
        "model.config"
      ],
      "execution_count": 31,
      "outputs": [
        {
          "output_type": "execute_result",
          "data": {
            "text/plain": [
              "T5Config {\n",
              "  \"_name_or_path\": \"cointegrated/rut5-base\",\n",
              "  \"architectures\": [\n",
              "    \"MT5ForConditionalGeneration\"\n",
              "  ],\n",
              "  \"d_ff\": 2048,\n",
              "  \"d_kv\": 64,\n",
              "  \"d_model\": 768,\n",
              "  \"decoder_start_token_id\": 0,\n",
              "  \"dropout_rate\": 0.1,\n",
              "  \"eos_token_id\": 1,\n",
              "  \"feed_forward_proj\": \"gated-gelu\",\n",
              "  \"initializer_factor\": 1.0,\n",
              "  \"is_encoder_decoder\": true,\n",
              "  \"layer_norm_epsilon\": 1e-06,\n",
              "  \"model_type\": \"t5\",\n",
              "  \"num_decoder_layers\": 12,\n",
              "  \"num_heads\": 12,\n",
              "  \"num_layers\": 12,\n",
              "  \"output_past\": true,\n",
              "  \"pad_token_id\": 0,\n",
              "  \"relative_attention_num_buckets\": 32,\n",
              "  \"tie_word_embeddings\": false,\n",
              "  \"tokenizer_class\": \"T5Tokenizer\",\n",
              "  \"transformers_version\": \"4.17.0\",\n",
              "  \"use_cache\": true,\n",
              "  \"vocab_size\": 30000\n",
              "}"
            ]
          },
          "metadata": {},
          "execution_count": 31
        }
      ]
    },
    {
      "cell_type": "code",
      "metadata": {
        "id": "UaebisNqr4Mk"
      },
      "source": [
        "new_tokenizer.save_pretrained('rut5-base')\n",
        "model.save_pretrained('rut5-base')"
      ],
      "execution_count": 32,
      "outputs": []
    },
    {
      "cell_type": "code",
      "metadata": {
        "colab": {
          "base_uri": "https://localhost:8080/"
        },
        "id": "nIoB98_9r7VU",
        "outputId": "16ca987b-78cc-4e1c-909e-2c023d212491"
      },
      "source": [
        "!ls rut5-base -alsh"
      ],
      "execution_count": 33,
      "outputs": [
        {
          "output_type": "stream",
          "name": "stdout",
          "text": [
            "total 933M\n",
            "4.0K drwxr-xr-x 2 root root 4.0K Apr  6 04:04 .\n",
            "4.0K drwxr-xr-x 1 root root 4.0K Apr  6 06:24 ..\n",
            "4.0K -rw-r--r-- 1 root root  706 Apr  6 06:25 config.json\n",
            "933M -rw-r--r-- 1 root root 933M Apr  6 06:25 pytorch_model.bin\n",
            "4.0K -rw-r--r-- 1 root root   65 Apr  6 06:25 special_tokens_map.json\n",
            "756K -rw-r--r-- 1 root root 755K Apr  6 06:25 spiece.model\n",
            "4.0K -rw-r--r-- 1 root root  173 Apr  6 06:25 tokenizer_config.json\n"
          ]
        }
      ]
    },
    {
      "cell_type": "markdown",
      "metadata": {
        "id": "5gFLD5dUs7gZ"
      },
      "source": [
        "Now try to load the model"
      ]
    },
    {
      "cell_type": "code",
      "metadata": {
        "id": "ewebox5usyq9"
      },
      "source": [
        "model1 = T5ForConditionalGeneration.from_pretrained('rut5-base')\n",
        "tokenizer1 = T5Tokenizer.from_pretrained('rut5-base')"
      ],
      "execution_count": 34,
      "outputs": []
    },
    {
      "cell_type": "markdown",
      "metadata": {
        "id": "_GVnO2C0ruQx"
      },
      "source": [
        "The model has not been fine-tuned on any sensible task except filling the gaps. And even this task is performed strangely - the models continues generating when it should have stopped. \n",
        "\n",
        "But we hope that after fine-tuning it will be better. But this is the topic of the next story)"
      ]
    },
    {
      "cell_type": "code",
      "metadata": {
        "colab": {
          "base_uri": "https://localhost:8080/"
        },
        "id": "08zibfjgtNhF",
        "outputId": "0034cab8-c254-44b5-fbb6-ab30bc58a403"
      },
      "source": [
        "inputs = tokenizer1('The <extra_id_0> walks in <extra_id_1> park.', return_tensors='pt')\n",
        "with torch.no_grad():\n",
        "    hypotheses = model1.generate(\n",
        "        **inputs, \n",
        "        do_sample=True, top_p=0.95, \n",
        "        num_return_sequences=3, \n",
        "        repetition_penalty=2.5,\n",
        "        max_length=32,\n",
        "    )\n",
        "for h in hypotheses:\n",
        "    print(tokenizer1.decode(h))"
      ],
      "execution_count": 35,
      "outputs": [
        {
          "output_type": "stream",
          "name": "stdout",
          "text": [
            "<pad> <extra_id_0> local <extra_id_1> the <extra_id_2> a beautiful <extra_id_3> international <extra_id_4> national <extra_id_5> bottom!</s>\n",
            "<pad> <extra_id_0> annual <extra_id_1> the <extra_id_2> her car.</s> <pad> <pad> <pad> <pad> <pad> <pad> <pad>\n",
            "<pad> <extra_id_0> trees <extra_id_1> the <extra_id_2> the <extra_id_3> trees <extra_id_4> the lake.</s> <pad> <pad>\n"
          ]
        }
      ]
    },
    {
      "cell_type": "code",
      "metadata": {
        "colab": {
          "base_uri": "https://localhost:8080/"
        },
        "id": "tsR9lH3_uqF3",
        "outputId": "ef3fb150-ab97-4cda-af8a-5482543297c1"
      },
      "source": [
        "inputs = tokenizer1('Красивая <extra_id_0> гуляет <extra_id_1> парку.', return_tensors='pt')\n",
        "with torch.no_grad():\n",
        "    hypotheses = model1.generate(\n",
        "        **inputs, \n",
        "        do_sample=True, top_p=0.95, \n",
        "        num_return_sequences=3, \n",
        "        repetition_penalty=2.5,\n",
        "        max_length=32,\n",
        "    )\n",
        "for h in hypotheses:\n",
        "    print(tokenizer1.decode(h))"
      ],
      "execution_count": 36,
      "outputs": [
        {
          "output_type": "stream",
          "name": "stdout",
          "text": [
            "<pad> <extra_id_0> куу- <extra_id_1>а <extra_id_2>! <extra_id_3>рм.</s> <pad> <pad>\n",
            "<pad> <extra_id_0>: <extra_id_1>- <extra_id_2>. ои <extra_id_3>. 5 хр</s>\n",
            "<pad> <extra_id_0> н <extra_id_1>д. <extra_id_2>у <extra_id_3>. Апае</s> <pad>\n"
          ]
        }
      ]
    },
    {
      "cell_type": "markdown",
      "metadata": {
        "id": "2nZt98FYwcex"
      },
      "source": [
        "I will save the model on my Google drive to retrieve it later for fine-tuning. "
      ]
    },
    {
      "cell_type": "code",
      "metadata": {
        "colab": {
          "base_uri": "https://localhost:8080/"
        },
        "id": "iMG9dNShwg9U",
        "outputId": "63b9bda9-5ef6-40b8-e7b7-33ce3cc2b3f4"
      },
      "source": [
        "from google.colab import drive\n",
        "drive.mount('/gd')"
      ],
      "execution_count": 37,
      "outputs": [
        {
          "output_type": "stream",
          "name": "stdout",
          "text": [
            "Mounted at /gd\n"
          ]
        }
      ]
    },
    {
      "cell_type": "code",
      "metadata": {
        "colab": {
          "base_uri": "https://localhost:8080/"
        },
        "id": "_j56QoXBwjCS",
        "outputId": "411c643e-1aa4-4ae8-de14-e11a06408269"
      },
      "source": [
        "model1.save_pretrained('/gd/MyDrive/models/rut5-base-raw')\n",
        "tokenizer1.save_pretrained('/gd/MyDrive/models/rut5-base-raw')"
      ],
      "execution_count": 38,
      "outputs": [
        {
          "output_type": "execute_result",
          "data": {
            "text/plain": [
              "('/gd/MyDrive/models/rut5-base-raw/tokenizer_config.json',\n",
              " '/gd/MyDrive/models/rut5-base-raw/special_tokens_map.json',\n",
              " '/gd/MyDrive/models/rut5-base-raw/spiece.model',\n",
              " '/gd/MyDrive/models/rut5-base-raw/added_tokens.json')"
            ]
          },
          "metadata": {},
          "execution_count": 38
        }
      ]
    },
    {
      "cell_type": "code",
      "metadata": {
        "id": "57AlTaqpw2Ew"
      },
      "source": [
        ""
      ],
      "execution_count": 38,
      "outputs": []
    }
  ]
}